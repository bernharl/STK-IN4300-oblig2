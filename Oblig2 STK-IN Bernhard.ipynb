{
 "cells": [
  {
   "cell_type": "code",
   "execution_count": 1,
   "metadata": {},
   "outputs": [
    {
     "data": {
      "application/javascript": [
       "\n",
       "            setTimeout(function() {\n",
       "                var nbb_cell_id = 1;\n",
       "                var nbb_formatted_code = \"import pandas as pd  # For dataframe\\nimport numpy as np  # For matrix operations\\nimport sklearn.preprocessing as sklpre  # For preprocessing (scaling)\\nimport sklearn.linear_model as skllm  # For OLS\\nimport sklearn.model_selection as sklms  # For train_test_split\\nfrom scipy import stats  # To calc p-value\\nimport matplotlib.pyplot as plt  # For plotting\\nimport pygam  # For generalized additive models\\nimport sklearn.ensemble as sklen  # For ensemble methods\\nimport sklearn.neighbors as sklne  # for kNN\\n\\n# For automatic formatting of code, sparing you from my usually horrible looking code\\n%load_ext nb_black\";\n",
       "                var nbb_cells = Jupyter.notebook.get_cells();\n",
       "                for (var i = 0; i < nbb_cells.length; ++i) {\n",
       "                    if (nbb_cells[i].input_prompt_number == nbb_cell_id) {\n",
       "                        nbb_cells[i].set_text(nbb_formatted_code);\n",
       "                        break;\n",
       "                    }\n",
       "                }\n",
       "            }, 500);\n",
       "            "
      ],
      "text/plain": [
       "<IPython.core.display.Javascript object>"
      ]
     },
     "metadata": {},
     "output_type": "display_data"
    }
   ],
   "source": [
    "import pandas as pd  # For dataframe\n",
    "import numpy as np  # For matrix operations\n",
    "import sklearn.preprocessing as sklpre  # For preprocessing (scaling)\n",
    "import sklearn.linear_model as skllm  # For OLS\n",
    "import sklearn.model_selection as sklms  # For train_test_split\n",
    "from scipy import stats  # To calc p-value\n",
    "import matplotlib.pyplot as plt  # For plotting\n",
    "import pygam  # For generalized additive models\n",
    "import sklearn.ensemble as sklen  # For ensemble methods\n",
    "import sklearn.neighbors as sklne # for \n",
    "\n",
    "# For automatic formatting of code, sparing you from my usually horrible looking code\n",
    "%load_ext nb_black"
   ]
  },
  {
   "cell_type": "markdown",
   "metadata": {},
   "source": [
    "# Task 1.1\n",
    "I have chosen to one-hot encode the SEX-category, as neither male nor female should be considered adifferent numbers. \n",
    "The rest of the categorical values are just true/false, so those aren't encoded. \n",
    "Then I scale all the scalar features, not touching the categorical features."
   ]
  },
  {
   "cell_type": "code",
   "execution_count": 4,
   "metadata": {},
   "outputs": [
    {
     "data": {
      "application/javascript": [
       "\n",
       "            setTimeout(function() {\n",
       "                var nbb_cell_id = 4;\n",
       "                var nbb_formatted_code = \"# Reading the data into dataframe\\ndf = pd.read_csv(\\\"data_task_1.txt\\\", header=0, sep=\\\" \\\")\\n# Onehot-encoding gender\\nonehot_gender = pd.get_dummies(df[\\\"SEX\\\"]).set_axis(\\n    [\\\"Male\\\", \\\"Female\\\"], axis=1, inplace=False\\n)\\n# Replacing old gender column\\ndf = df.join(onehot_gender)\\ndf.drop(\\\"SEX\\\", axis=1, inplace=True)\\n# List of boolean categories\\ncategorical = [\\n    \\\"ADHEU\\\",\\n    \\\"HOCHOZON\\\",\\n    \\\"AMATOP\\\",\\n    \\\"AVATOP\\\",\\n    \\\"ADEKZ\\\",\\n    \\\"ARAUCH\\\",\\n    \\\"FSNIGHT\\\",\\n    \\\"FSPT\\\",\\n    \\\"FSATEM\\\",\\n    \\\"FSAUGE\\\",\\n    \\\"FSPFEI\\\",\\n    \\\"FSHLAUF\\\",\\n    \\\"Male\\\",\\n    \\\"Female\\\",\\n]\\n\\n# A loop that splits the data and tries again until there is no split where only one modality is in one split\\nfirst = True\\nwhile (\\n    first\\n    or np.any(\\n        np.logical_or(X_train.sum(axis=0) == 0, X_train.sum(axis=0) == X_train.shape[0])\\n    )\\n    or np.any(\\n        np.logical_or(X_test.sum(axis=0) == 0, X_test.sum(axis=0) == X_test.shape[0])\\n    )\\n):\\n    first = False\\n    # Splitting over and over until splits are good, stratifying the most biased feature.\\n    X_train, X_test, y_train, y_test = sklms.train_test_split(\\n        df.loc[:, df.columns != \\\"FFVC\\\"],\\n        df[\\\"FFVC\\\"],\\n        test_size=0.5,\\n        stratify=df[\\\"FSATEM\\\"],\\n    )\\n# Scaling scalar features based on train set\\nscaler = sklpre.StandardScaler()\\nX_train_continous = scaler.fit_transform(\\n    X_train.loc[:, np.logical_not(np.isin(X_train.columns, categorical))].values\\n)\\nX_test_continous = scaler.transform(\\n    X_test.loc[:, np.logical_not(np.isin(X_test.columns, categorical))].values\\n)\\n# Putting all scalar and categorical features together\\nX_train.loc[\\n    :, np.logical_not(np.isin(X_train.columns, categorical))\\n] = X_train_continous\\nX_test.loc[:, np.logical_not(np.isin(X_test.columns, categorical))] = X_test_continous\\n# Need to specify datatypes because it chose a dumb datatype by default\\nX_train = X_train.astype({\\\"Male\\\": \\\"int32\\\", \\\"Female\\\": \\\"int32\\\"})\\nX_test = X_test.astype({\\\"Male\\\": \\\"int32\\\", \\\"Female\\\": \\\"int32\\\"})\\n# All preprocessing done!\";\n",
       "                var nbb_cells = Jupyter.notebook.get_cells();\n",
       "                for (var i = 0; i < nbb_cells.length; ++i) {\n",
       "                    if (nbb_cells[i].input_prompt_number == nbb_cell_id) {\n",
       "                        nbb_cells[i].set_text(nbb_formatted_code);\n",
       "                        break;\n",
       "                    }\n",
       "                }\n",
       "            }, 500);\n",
       "            "
      ],
      "text/plain": [
       "<IPython.core.display.Javascript object>"
      ]
     },
     "metadata": {},
     "output_type": "display_data"
    }
   ],
   "source": [
    "# Reading the data into dataframe\n",
    "df = pd.read_csv(\"data_task_1.txt\", header=0, sep=\" \")\n",
    "# Onehot-encoding gender\n",
    "onehot_gender = pd.get_dummies(df[\"SEX\"]).set_axis(\n",
    "    [\"Male\", \"Female\"], axis=1, inplace=False\n",
    ")\n",
    "# Replacing old gender column\n",
    "df = df.join(onehot_gender)\n",
    "df.drop(\"SEX\", axis=1, inplace=True)\n",
    "# List of boolean categories\n",
    "categorical = [\n",
    "    \"ADHEU\",\n",
    "    \"HOCHOZON\",\n",
    "    \"AMATOP\",\n",
    "    \"AVATOP\",\n",
    "    \"ADEKZ\",\n",
    "    \"ARAUCH\",\n",
    "    \"FSNIGHT\",\n",
    "    \"FSPT\",\n",
    "    \"FSATEM\",\n",
    "    \"FSAUGE\",\n",
    "    \"FSPFEI\",\n",
    "    \"FSHLAUF\",\n",
    "    \"Male\",\n",
    "    \"Female\",\n",
    "]\n",
    "\n",
    "# A loop that splits the data and tries again until there is no split where only one modality is in one split\n",
    "first = True\n",
    "while (\n",
    "    first\n",
    "    or np.any(\n",
    "        np.logical_or(X_train.sum(axis=0) == 0, X_train.sum(axis=0) == X_train.shape[0])\n",
    "    )\n",
    "    or np.any(\n",
    "        np.logical_or(X_test.sum(axis=0) == 0, X_test.sum(axis=0) == X_test.shape[0])\n",
    "    )\n",
    "):\n",
    "    first = False\n",
    "    # Splitting over and over until splits are good, stratifying the most biased feature.\n",
    "    X_train, X_test, y_train, y_test = sklms.train_test_split(\n",
    "        df.loc[:, df.columns != \"FFVC\"],\n",
    "        df[\"FFVC\"],\n",
    "        test_size=0.5,\n",
    "        stratify=df[\"FSATEM\"],\n",
    "    )\n",
    "# Scaling scalar features based on train set\n",
    "scaler = sklpre.StandardScaler()\n",
    "X_train_continous = scaler.fit_transform(\n",
    "    X_train.loc[:, np.logical_not(np.isin(X_train.columns, categorical))].values\n",
    ")\n",
    "X_test_continous = scaler.transform(\n",
    "    X_test.loc[:, np.logical_not(np.isin(X_test.columns, categorical))].values\n",
    ")\n",
    "# Putting all scalar and categorical features together\n",
    "X_train.loc[\n",
    "    :, np.logical_not(np.isin(X_train.columns, categorical))\n",
    "] = X_train_continous\n",
    "X_test.loc[:, np.logical_not(np.isin(X_test.columns, categorical))] = X_test_continous\n",
    "# Need to specify datatypes because it chose a dumb datatype by default\n",
    "X_train = X_train.astype({\"Male\": \"int32\", \"Female\": \"int32\"})\n",
    "X_test = X_test.astype({\"Male\": \"int32\", \"Female\": \"int32\"})\n",
    "# All preprocessing done!"
   ]
  },
  {
   "cell_type": "markdown",
   "metadata": {},
   "source": [
    "# Task 1.2\n",
    "Running OLS, calculating uncertainties and p-values"
   ]
  },
  {
   "cell_type": "code",
   "execution_count": 3,
   "metadata": {},
   "outputs": [
    {
     "data": {
      "application/javascript": [
       "\n",
       "            setTimeout(function() {\n",
       "                var nbb_cell_id = 3;\n",
       "                var nbb_formatted_code = \"def get_summary_linear_model(model, X_train, y_train):\\n    \\\"\\\"\\\"\\n    Scikit-learn has no built in support for confidence intervals and p-values, so I \\n    made this to calculate it for me after fitting the model. Put into a function for reuse.\\n    \\\"\\\"\\\"\\n    # Combining intercept and coefficients in same array\\n    coefficients = np.append(model.intercept_, model.coef_)\\n\\n    # Predicting y\\n    y_hat = model.predict(X_train)\\n    # Calculating RSS to get variance for use when calculating stddev of coeffs\\n    residuals = y_train.values - y_hat\\n    rss = residuals.reshape(-1, 1).T @ residuals.reshape(-1, 1)\\n    var = rss[0, 0] / (len(X_train) - len(X_train.columns) - 1)\\n\\n    # Adding intercept to X_train, as sklearn usually does not need the column of 1's\\n    X_with_intercept = np.append(\\n        np.ones(X_train.shape[0]).reshape(-1, 1), X_train, axis=1\\n    )\\n    # Stddev of coefficients\\n    stddev = np.sqrt(\\n        (np.diag(var * np.linalg.pinv(X_with_intercept.T @ X_with_intercept)))\\n    )\\n    labels = [\\\"Intercept\\\"] + X_train.columns.tolist()\\n\\n    coef_over_std = coefficients / stddev\\n    p_values = [\\n        2 * (1 - stats.t.cdf(np.abs(i), (len(X_with_intercept) - 1)))\\n        for i in coef_over_std\\n    ]\\n\\n    # Putting results into table\\n    coeffs_table = pd.DataFrame(zip(labels, coefficients, stddev, p_values))\\n    # Giving nice names with TeX formatting\\n    coeffs_table.rename(\\n        columns={0: \\\"Feature\\\", 1: r\\\"$\\\\beta_i$\\\", 2: r\\\"$\\\\pm$\\\", 3: \\\"p-values\\\"},\\n        inplace=True,\\n    )\\n    return coeffs_table\";\n",
       "                var nbb_cells = Jupyter.notebook.get_cells();\n",
       "                for (var i = 0; i < nbb_cells.length; ++i) {\n",
       "                    if (nbb_cells[i].input_prompt_number == nbb_cell_id) {\n",
       "                        nbb_cells[i].set_text(nbb_formatted_code);\n",
       "                        break;\n",
       "                    }\n",
       "                }\n",
       "            }, 500);\n",
       "            "
      ],
      "text/plain": [
       "<IPython.core.display.Javascript object>"
      ]
     },
     "metadata": {},
     "output_type": "display_data"
    }
   ],
   "source": [
    "%load_ext rpy2.ipython\n",
    "train_for_r = X_train.join(y_train)\n",
    "test_for_r = X_test.join(y_test)"
   ]
  },
  {
   "cell_type": "code",
   "execution_count": 4,
   "metadata": {},
   "outputs": [
    {
     "name": "stdout",
     "output_type": "stream",
     "text": [
      "Got an R^2 score of 0.59 for the test set.\n",
      "The most important feature (lowest p-value) is FLGROSS.\n"
     ]
    },
    {
     "data": {
      "text/html": [
       "<div>\n",
       "<style scoped>\n",
       "    .dataframe tbody tr th:only-of-type {\n",
       "        vertical-align: middle;\n",
       "    }\n",
       "\n",
       "    .dataframe tbody tr th {\n",
       "        vertical-align: top;\n",
       "    }\n",
       "\n",
       "    .dataframe thead th {\n",
       "        text-align: right;\n",
       "    }\n",
       "</style>\n",
       "<table border=\"1\" class=\"dataframe\">\n",
       "  <thead>\n",
       "    <tr style=\"text-align: right;\">\n",
       "      <th></th>\n",
       "      <th>Feature</th>\n",
       "      <th>$\\beta_i$</th>\n",
       "      <th>$\\pm$</th>\n",
       "      <th>p-values</th>\n",
       "    </tr>\n",
       "  </thead>\n",
       "  <tbody>\n",
       "    <tr>\n",
       "      <th>0</th>\n",
       "      <td>Intercept</td>\n",
       "      <td>2.346831</td>\n",
       "      <td>0.026624</td>\n",
       "      <td>0.000000e+00</td>\n",
       "    </tr>\n",
       "    <tr>\n",
       "      <th>1</th>\n",
       "      <td>ALTER</td>\n",
       "      <td>0.004857</td>\n",
       "      <td>0.017255</td>\n",
       "      <td>7.785705e-01</td>\n",
       "    </tr>\n",
       "    <tr>\n",
       "      <th>2</th>\n",
       "      <td>ADHEU</td>\n",
       "      <td>-0.145300</td>\n",
       "      <td>0.080722</td>\n",
       "      <td>7.308164e-02</td>\n",
       "    </tr>\n",
       "    <tr>\n",
       "      <th>3</th>\n",
       "      <td>HOCHOZON</td>\n",
       "      <td>-0.053635</td>\n",
       "      <td>0.041230</td>\n",
       "      <td>1.945075e-01</td>\n",
       "    </tr>\n",
       "    <tr>\n",
       "      <th>4</th>\n",
       "      <td>AMATOP</td>\n",
       "      <td>-0.047637</td>\n",
       "      <td>0.037801</td>\n",
       "      <td>2.087844e-01</td>\n",
       "    </tr>\n",
       "    <tr>\n",
       "      <th>5</th>\n",
       "      <td>AVATOP</td>\n",
       "      <td>-0.044020</td>\n",
       "      <td>0.036559</td>\n",
       "      <td>2.297168e-01</td>\n",
       "    </tr>\n",
       "    <tr>\n",
       "      <th>6</th>\n",
       "      <td>ADEKZ</td>\n",
       "      <td>0.061384</td>\n",
       "      <td>0.037673</td>\n",
       "      <td>1.045070e-01</td>\n",
       "    </tr>\n",
       "    <tr>\n",
       "      <th>7</th>\n",
       "      <td>ARAUCH</td>\n",
       "      <td>0.013920</td>\n",
       "      <td>0.033134</td>\n",
       "      <td>6.747662e-01</td>\n",
       "    </tr>\n",
       "    <tr>\n",
       "      <th>8</th>\n",
       "      <td>AGEBGEW</td>\n",
       "      <td>0.006542</td>\n",
       "      <td>0.015020</td>\n",
       "      <td>6.635539e-01</td>\n",
       "    </tr>\n",
       "    <tr>\n",
       "      <th>9</th>\n",
       "      <td>FSNIGHT</td>\n",
       "      <td>0.017598</td>\n",
       "      <td>0.051710</td>\n",
       "      <td>7.339054e-01</td>\n",
       "    </tr>\n",
       "    <tr>\n",
       "      <th>10</th>\n",
       "      <td>FLGROSS</td>\n",
       "      <td>0.190239</td>\n",
       "      <td>0.023351</td>\n",
       "      <td>1.865175e-14</td>\n",
       "    </tr>\n",
       "    <tr>\n",
       "      <th>11</th>\n",
       "      <td>FMILB</td>\n",
       "      <td>-0.041555</td>\n",
       "      <td>0.020275</td>\n",
       "      <td>4.146821e-02</td>\n",
       "    </tr>\n",
       "    <tr>\n",
       "      <th>12</th>\n",
       "      <td>FNOH24</td>\n",
       "      <td>-0.029617</td>\n",
       "      <td>0.018702</td>\n",
       "      <td>1.145588e-01</td>\n",
       "    </tr>\n",
       "    <tr>\n",
       "      <th>13</th>\n",
       "      <td>FTIER</td>\n",
       "      <td>-0.002229</td>\n",
       "      <td>0.018285</td>\n",
       "      <td>9.030676e-01</td>\n",
       "    </tr>\n",
       "    <tr>\n",
       "      <th>14</th>\n",
       "      <td>FPOLL</td>\n",
       "      <td>0.002344</td>\n",
       "      <td>0.028746</td>\n",
       "      <td>9.350640e-01</td>\n",
       "    </tr>\n",
       "    <tr>\n",
       "      <th>15</th>\n",
       "      <td>FLTOTMED</td>\n",
       "      <td>-0.001752</td>\n",
       "      <td>0.015287</td>\n",
       "      <td>9.088707e-01</td>\n",
       "    </tr>\n",
       "    <tr>\n",
       "      <th>16</th>\n",
       "      <td>FO3H24</td>\n",
       "      <td>0.001171</td>\n",
       "      <td>0.032991</td>\n",
       "      <td>9.717106e-01</td>\n",
       "    </tr>\n",
       "    <tr>\n",
       "      <th>17</th>\n",
       "      <td>FSPT</td>\n",
       "      <td>0.005497</td>\n",
       "      <td>0.075632</td>\n",
       "      <td>9.421153e-01</td>\n",
       "    </tr>\n",
       "    <tr>\n",
       "      <th>18</th>\n",
       "      <td>FTEH24</td>\n",
       "      <td>-0.018135</td>\n",
       "      <td>0.029902</td>\n",
       "      <td>5.447571e-01</td>\n",
       "    </tr>\n",
       "    <tr>\n",
       "      <th>19</th>\n",
       "      <td>FSATEM</td>\n",
       "      <td>0.155946</td>\n",
       "      <td>0.085644</td>\n",
       "      <td>6.983653e-02</td>\n",
       "    </tr>\n",
       "    <tr>\n",
       "      <th>20</th>\n",
       "      <td>FSAUGE</td>\n",
       "      <td>0.044267</td>\n",
       "      <td>0.051491</td>\n",
       "      <td>3.907865e-01</td>\n",
       "    </tr>\n",
       "    <tr>\n",
       "      <th>21</th>\n",
       "      <td>FLGEW</td>\n",
       "      <td>0.072671</td>\n",
       "      <td>0.021187</td>\n",
       "      <td>7.071639e-04</td>\n",
       "    </tr>\n",
       "    <tr>\n",
       "      <th>22</th>\n",
       "      <td>FSPFEI</td>\n",
       "      <td>0.220082</td>\n",
       "      <td>0.102688</td>\n",
       "      <td>3.307377e-02</td>\n",
       "    </tr>\n",
       "    <tr>\n",
       "      <th>23</th>\n",
       "      <td>FSHLAUF</td>\n",
       "      <td>-0.066336</td>\n",
       "      <td>0.074917</td>\n",
       "      <td>3.767661e-01</td>\n",
       "    </tr>\n",
       "    <tr>\n",
       "      <th>24</th>\n",
       "      <td>Male</td>\n",
       "      <td>0.079315</td>\n",
       "      <td>0.020463</td>\n",
       "      <td>1.361089e-04</td>\n",
       "    </tr>\n",
       "    <tr>\n",
       "      <th>25</th>\n",
       "      <td>Female</td>\n",
       "      <td>-0.079315</td>\n",
       "      <td>0.019453</td>\n",
       "      <td>6.150116e-05</td>\n",
       "    </tr>\n",
       "  </tbody>\n",
       "</table>\n",
       "</div>"
      ],
      "text/plain": [
       "      Feature  $\\beta_i$     $\\pm$      p-values\n",
       "0   Intercept   2.346831  0.026624  0.000000e+00\n",
       "1       ALTER   0.004857  0.017255  7.785705e-01\n",
       "2       ADHEU  -0.145300  0.080722  7.308164e-02\n",
       "3    HOCHOZON  -0.053635  0.041230  1.945075e-01\n",
       "4      AMATOP  -0.047637  0.037801  2.087844e-01\n",
       "5      AVATOP  -0.044020  0.036559  2.297168e-01\n",
       "6       ADEKZ   0.061384  0.037673  1.045070e-01\n",
       "7      ARAUCH   0.013920  0.033134  6.747662e-01\n",
       "8     AGEBGEW   0.006542  0.015020  6.635539e-01\n",
       "9     FSNIGHT   0.017598  0.051710  7.339054e-01\n",
       "10    FLGROSS   0.190239  0.023351  1.865175e-14\n",
       "11      FMILB  -0.041555  0.020275  4.146821e-02\n",
       "12     FNOH24  -0.029617  0.018702  1.145588e-01\n",
       "13      FTIER  -0.002229  0.018285  9.030676e-01\n",
       "14      FPOLL   0.002344  0.028746  9.350640e-01\n",
       "15   FLTOTMED  -0.001752  0.015287  9.088707e-01\n",
       "16     FO3H24   0.001171  0.032991  9.717106e-01\n",
       "17       FSPT   0.005497  0.075632  9.421153e-01\n",
       "18     FTEH24  -0.018135  0.029902  5.447571e-01\n",
       "19     FSATEM   0.155946  0.085644  6.983653e-02\n",
       "20     FSAUGE   0.044267  0.051491  3.907865e-01\n",
       "21      FLGEW   0.072671  0.021187  7.071639e-04\n",
       "22     FSPFEI   0.220082  0.102688  3.307377e-02\n",
       "23    FSHLAUF  -0.066336  0.074917  3.767661e-01\n",
       "24       Male   0.079315  0.020463  1.361089e-04\n",
       "25     Female  -0.079315  0.019453  6.150116e-05"
      ]
     },
     "execution_count": 4,
     "metadata": {},
     "output_type": "execute_result"
    },
    {
     "data": {
      "application/javascript": [
       "\n",
       "            setTimeout(function() {\n",
       "                var nbb_cell_id = 4;\n",
       "                var nbb_formatted_code = \"# OLS on train data\\nols_reg = skllm.LinearRegression().fit(X_train, y_train)\\n# R2 score\\nr2 = ols_reg.score(X_test, y_test)\\ncoeffs_table = get_summary_linear_model(ols_reg, X_train, y_train)\\nmost_important = coeffs_table[\\\"Feature\\\"].values[1:][\\n    np.argmin(coeffs_table[\\\"p-values\\\"].values[1:])\\n]\\n# Printing results\\nprint(f\\\"Got an R^2 score of {r2:.2f} for the test set.\\\")\\nprint(f\\\"The most important feature (lowest p-value) is {most_important}.\\\")\\ncoeffs_table\";\n",
       "                var nbb_cells = Jupyter.notebook.get_cells();\n",
       "                for (var i = 0; i < nbb_cells.length; ++i) {\n",
       "                    if (nbb_cells[i].input_prompt_number == nbb_cell_id) {\n",
       "                        nbb_cells[i].set_text(nbb_formatted_code);\n",
       "                        break;\n",
       "                    }\n",
       "                }\n",
       "            }, 500);\n",
       "            "
      ],
      "text/plain": [
       "<IPython.core.display.Javascript object>"
      ]
     },
     "metadata": {},
     "output_type": "display_data"
    }
   ],
   "source": [
    "# OLS on train data\n",
    "ols_reg = skllm.LinearRegression().fit(X_train, y_train)\n",
    "# R2 score\n",
    "r2 = ols_reg.score(X_test, y_test)\n",
    "coeffs_table = get_summary_linear_model(ols_reg, X_train, y_train)\n",
    "most_important = coeffs_table[\"Feature\"].values[1:][\n",
    "    np.argmin(coeffs_table[\"p-values\"].values[1:])\n",
    "]\n",
    "# Printing results\n",
    "print(f\"Got an R^2 score of {r2:.2f} for the test set.\")\n",
    "print(f\"The most important feature (lowest p-value) is {most_important}.\")\n",
    "coeffs_table"
   ]
  },
  {
   "cell_type": "markdown",
   "metadata": {},
   "source": [
    "The most important (lower p-value) feature seems to be FLGROSS. Some other important features seem to be gender. Male and female seem to completely cancel each other, implying that men are of higher risk?"
   ]
  },
  {
   "cell_type": "markdown",
   "metadata": {},
   "source": [
    "# Task 1.3\n",
    "Scikit-learn for some reason doesn't have built in forward and backward selection, so I will create my own functions!"
   ]
  },
  {
   "cell_type": "code",
   "execution_count": 5,
   "metadata": {},
   "outputs": [
    {
     "data": {
      "application/javascript": [
       "\n",
       "            setTimeout(function() {\n",
       "                var nbb_cell_id = 5;\n",
       "                var nbb_formatted_code = \"def backward_elimination(regressor, X_train, y_train, max_p_limit):\\n    \\\"\\\"\\\"\\n    Takes a regressor, training set and a max p-value, runs backward\\n    elimination and returns the regresson fitted on the reduced\\n    features, the reduced feature matrix, a table of betas, \\n    standard deviations and p-values and the removed features\\n    \\\"\\\"\\\"\\n    # Fitting regressor on full model\\n    regressor.fit(X_train, y_train)\\n    # Getting table of p-values to find what to eliminate\\n    result_table = get_summary_linear_model(regressor, X_train, y_train)\\n    p_values = result_table[\\\"p-values\\\"].values\\n    p_val_max, p_val_max_pos = p_values[1:].max(), p_values[1:].argmax() + 1\\n    # Getting name of feature with highest p-val to make list of removed features\\n    feature_max_p_val = result_table[\\\"Feature\\\"][p_val_max_pos]\\n    removed_features = [feature_max_p_val]\\n    # Dropping feature with highest p-val\\n    X_reduce = X_train.drop(columns=feature_max_p_val, inplace=False)\\n    # Running backwards elimination until all p-values are below limit\\n    while p_val_max > max_p_limit:\\n        # Fitting on reduced model\\n        regressor.fit(X_reduce, y_train)\\n        result_table = get_summary_linear_model(regressor, X_reduce, y_train)\\n        p_values = result_table[\\\"p-values\\\"].values\\n        p_val_max, p_val_max_pos = p_values[1:].max(), p_values[1:].argmax() + 1\\n        feature_max_p_val = result_table[\\\"Feature\\\"][p_val_max_pos]\\n        # If one or more features have to high p-value, remove\\n        if p_val_max > max_p_limit:\\n            # Append name to list that keeps track of removed features\\n            removed_features.append(feature_max_p_val)\\n            # Dropping feature\\n            X_reduce.drop(columns=feature_max_p_val, inplace=True)\\n            # Sorting features\\n            X_reduce.sort_index(axis=1, inplace=True)\\n            # Fitting reduced model\\n            regressor.fit(X_reduce, y_train)\\n\\n    return regressor, X_reduce, result_table, removed_features\";\n",
       "                var nbb_cells = Jupyter.notebook.get_cells();\n",
       "                for (var i = 0; i < nbb_cells.length; ++i) {\n",
       "                    if (nbb_cells[i].input_prompt_number == nbb_cell_id) {\n",
       "                        nbb_cells[i].set_text(nbb_formatted_code);\n",
       "                        break;\n",
       "                    }\n",
       "                }\n",
       "            }, 500);\n",
       "            "
      ],
      "text/plain": [
       "<IPython.core.display.Javascript object>"
      ]
     },
     "metadata": {},
     "output_type": "display_data"
    }
   ],
   "source": [
    "%load_ext rpy2.ipython\n",
    "train_for_r = X_train.join(y_train)\n",
    "test_for_r = X_test.join(y_test)"
   ]
  },
  {
   "cell_type": "code",
   "execution_count": 6,
   "metadata": {},
   "outputs": [
    {
     "name": "stdout",
     "output_type": "stream",
     "text": [
      "R^2 score of full model: 0.59 Backward Model: 0.62\n"
     ]
    },
    {
     "data": {
      "text/html": [
       "<div>\n",
       "<style scoped>\n",
       "    .dataframe tbody tr th:only-of-type {\n",
       "        vertical-align: middle;\n",
       "    }\n",
       "\n",
       "    .dataframe tbody tr th {\n",
       "        vertical-align: top;\n",
       "    }\n",
       "\n",
       "    .dataframe thead th {\n",
       "        text-align: right;\n",
       "    }\n",
       "</style>\n",
       "<table border=\"1\" class=\"dataframe\">\n",
       "  <thead>\n",
       "    <tr style=\"text-align: right;\">\n",
       "      <th></th>\n",
       "      <th>Feature</th>\n",
       "      <th>$\\beta_i$</th>\n",
       "      <th>$\\pm$</th>\n",
       "      <th>p-values</th>\n",
       "    </tr>\n",
       "  </thead>\n",
       "  <tbody>\n",
       "    <tr>\n",
       "      <th>0</th>\n",
       "      <td>Intercept</td>\n",
       "      <td>2.315368</td>\n",
       "      <td>0.009508</td>\n",
       "      <td>0.000000e+00</td>\n",
       "    </tr>\n",
       "    <tr>\n",
       "      <th>1</th>\n",
       "      <td>FLGEW</td>\n",
       "      <td>0.081395</td>\n",
       "      <td>0.019966</td>\n",
       "      <td>6.162503e-05</td>\n",
       "    </tr>\n",
       "    <tr>\n",
       "      <th>2</th>\n",
       "      <td>FLGROSS</td>\n",
       "      <td>0.197136</td>\n",
       "      <td>0.020050</td>\n",
       "      <td>0.000000e+00</td>\n",
       "    </tr>\n",
       "    <tr>\n",
       "      <th>3</th>\n",
       "      <td>FMILB</td>\n",
       "      <td>-0.040864</td>\n",
       "      <td>0.014214</td>\n",
       "      <td>4.393327e-03</td>\n",
       "    </tr>\n",
       "    <tr>\n",
       "      <th>4</th>\n",
       "      <td>FSPFEI</td>\n",
       "      <td>0.239463</td>\n",
       "      <td>0.076148</td>\n",
       "      <td>1.866090e-03</td>\n",
       "    </tr>\n",
       "    <tr>\n",
       "      <th>5</th>\n",
       "      <td>Female</td>\n",
       "      <td>-0.079641</td>\n",
       "      <td>0.014631</td>\n",
       "      <td>1.259040e-07</td>\n",
       "    </tr>\n",
       "    <tr>\n",
       "      <th>6</th>\n",
       "      <td>Male</td>\n",
       "      <td>0.079641</td>\n",
       "      <td>0.015139</td>\n",
       "      <td>3.111474e-07</td>\n",
       "    </tr>\n",
       "  </tbody>\n",
       "</table>\n",
       "</div>"
      ],
      "text/plain": [
       "     Feature  $\\beta_i$     $\\pm$      p-values\n",
       "0  Intercept   2.315368  0.009508  0.000000e+00\n",
       "1      FLGEW   0.081395  0.019966  6.162503e-05\n",
       "2    FLGROSS   0.197136  0.020050  0.000000e+00\n",
       "3      FMILB  -0.040864  0.014214  4.393327e-03\n",
       "4     FSPFEI   0.239463  0.076148  1.866090e-03\n",
       "5     Female  -0.079641  0.014631  1.259040e-07\n",
       "6       Male   0.079641  0.015139  3.111474e-07"
      ]
     },
     "execution_count": 6,
     "metadata": {},
     "output_type": "execute_result"
    },
    {
     "data": {
      "application/javascript": [
       "\n",
       "            setTimeout(function() {\n",
       "                var nbb_cell_id = 6;\n",
       "                var nbb_formatted_code = \"# Model to send in to function. It is an OLS regressor.\\nbase_regressor = skllm.LinearRegression()\\n# Running backwards elimination\\n(\\n    regressor_reduced,\\n    X_reduce_train,\\n    result_table_reduced,\\n    removed_features,\\n) = backward_elimination(base_regressor, X_train, y_train, max_p_limit=1e-2)\\n# Using list of reduced features to also create test feature matrix with same features\\nX_reduce_test = X_test.drop(columns=removed_features).sort_index(axis=1)\\n# Printing results\\nprint(\\n    f\\\"R^2 score of full model: {ols_reg.score(X_test, y_test):.2f} Backward Model: {regressor_reduced.score(X_reduce_test, y_test):.2f}\\\"\\n)\\nresult_table_reduced\";\n",
       "                var nbb_cells = Jupyter.notebook.get_cells();\n",
       "                for (var i = 0; i < nbb_cells.length; ++i) {\n",
       "                    if (nbb_cells[i].input_prompt_number == nbb_cell_id) {\n",
       "                        nbb_cells[i].set_text(nbb_formatted_code);\n",
       "                        break;\n",
       "                    }\n",
       "                }\n",
       "            }, 500);\n",
       "            "
      ],
      "text/plain": [
       "<IPython.core.display.Javascript object>"
      ]
     },
     "metadata": {},
     "output_type": "display_data"
    }
   ],
   "source": [
    "# Using R only for the lines with %R.\n",
    "%R library(mlbench)\n",
    "# Loading dataframe\n",
    "%R data(PimaIndiansDiabetes)\n",
    "# Now saving the dataframe in a Pandas dataframe in Python instead.\n",
    "# This is actually really cool, just found out how to do it. Using\n",
    "# Python together with R this way is probably very useful in data science!\n",
    "df_2 = %R PimaIndiansDiabetes\n",
    "X_2 = df_2.loc[:, df_2.columns != \"diabetes\"]\n",
    "y_2 = df_2[\"diabetes\"]\n",
    "y_2 = (y_2.values == \"neg\").astype(np.int)\n",
    "y_2 = pd.DataFrame(y_2, columns=[\"diabetes\"])\n",
    "X_train_2, X_test_2, y_train_2, y_test_2 = sklms.train_test_split(\n",
    "    X_2, y_2, stratify=y_2, test_size=0.33\n",
    ")\n",
    "scaler_2 = sklpre.StandardScaler()\n",
    "X_train_2 = pd.DataFrame(scaler_2.fit_transform(X_train_2), columns=X_train_2.columns)\n",
    "X_test_2 = pd.DataFrame(scaler_2.transform(X_test_2), columns=X_test_2.columns)"
   ]
  },
  {
   "cell_type": "code",
   "execution_count": 7,
   "metadata": {},
   "outputs": [
    {
     "data": {
      "application/javascript": [
       "\n",
       "            setTimeout(function() {\n",
       "                var nbb_cell_id = 7;\n",
       "                var nbb_formatted_code = \"def forward_selection(regressor, X_train, y_train, max_p_limit):\\n    \\\"\\\"\\\"\\n    Takes a regressor, training set and a max p-value, runs forward\\n    selection and returns the regresson fitted on the reduced\\n    features, the reduced feature matrix, a table of betas, \\n    standard deviations and p-values and the removed features\\n    \\\"\\\"\\\"\\n    X_null = pd.DataFrame({\\\"null\\\": np.zeros_like(y_train)})\\n    regressor.fit(X_null, y_train)\\n    # The p-value for the 0-column is invalid, but also not used, so I ignore the warnings\\n    with np.errstate(invalid=\\\"ignore\\\"):\\n        # Getting results for null-model\\n        result_table = get_summary_linear_model(regressor, X_null, y_train)\\n    # p-value for intercept\\n    p_val_max = result_table[\\\"p-values\\\"][0]\\n    # Dataframe used for incresing\\n    X_increased = pd.DataFrame()\\n    # List of features\\n    features = X_train.columns.values\\n    # while max p-val is below threshold, repeat\\n    while p_val_max < max_p_limit:\\n        # Set best p to infinity so that all values are less\\n        best_p = np.inf\\n        # Looping over features\\n        for feature in features:\\n            # Creating new column with feature in loop\\n            new_col = pd.DataFrame({feature: X_train[feature].values})\\n            # If null model we need to append to the dataframe differently than usual\\n            if len(X_increased.values) == 0:\\n                # Adding new feature to null model\\n                X_candidate = X_increased.append(new_col)\\n            else:\\n                # Adding new feature to model\\n                new_col_names = np.append(\\n                    X_increased.columns.values, new_col.columns.values\\n                )\\n                X_candidate = pd.DataFrame(\\n                    np.append(X_increased.values, new_col.values, axis=1),\\n                    columns=new_col_names,\\n                )\\n            # Fitting increased model to find p-value\\n            regressor.fit(X_candidate, y_train)\\n            result_table = get_summary_linear_model(regressor, X_candidate, y_train)\\n            p_i = result_table[\\\"p-values\\\"].values[-1]\\n            # This if-statement is used to find the minimum p-value of the potential features to add\\n            if p_i < best_p:\\n                best_p = p_i\\n                best_new_feature = feature\\n        # Now that we have the best feature to add, we add it properly\\n        new_col = pd.DataFrame({best_new_feature: X_train[best_new_feature].values})\\n        if len(X_increased.values) == 0:\\n            X_candidate = X_increased.append(new_col)\\n        else:\\n            new_col_names = np.append(\\n                X_increased.columns.values, new_col.columns.values\\n            )\\n            X_candidate = pd.DataFrame(\\n                np.append(X_increased.values, new_col.values, axis=1),\\n                columns=new_col_names,\\n            )\\n        # Get results for new model\\n        result_table = get_summary_linear_model(regressor, X_candidate, y_train)\\n        p_val_max = result_table[\\\"p-values\\\"].values.max()\\n\\n        # Sorting features\\n        X_increased = X_candidate.sort_index(axis=1)\\n        # Removing added feature from list of potential featues so that we can't add it again next iteration\\n        features = features[features != best_new_feature]\\n\\n    # List of omitted features\\n    omitted_features = features\\n    # Fitting increased model\\n    regressor.fit(X_increased, y_train)\\n    # Table of results for best model\\n    result_table_best = get_summary_linear_model(regressor, X_increased, y_train)\\n    return regressor, X_increased, result_table_best, omitted_features\";\n",
       "                var nbb_cells = Jupyter.notebook.get_cells();\n",
       "                for (var i = 0; i < nbb_cells.length; ++i) {\n",
       "                    if (nbb_cells[i].input_prompt_number == nbb_cell_id) {\n",
       "                        nbb_cells[i].set_text(nbb_formatted_code);\n",
       "                        break;\n",
       "                    }\n",
       "                }\n",
       "            }, 500);\n",
       "            "
      ],
      "text/plain": [
       "<IPython.core.display.Javascript object>"
      ]
     },
     "metadata": {},
     "output_type": "display_data"
    }
   ],
   "source": [
    "base_knn = sklne.KNeighborsClassifier()\n",
    "k_grid = np.arange(1, 25)\n",
    "hyperparams = {\"n_neighbors\": k_grid}\n",
    "grid_search_knn_5_fold = sklms.GridSearchCV(\n",
    "    base_knn, param_grid=hyperparams, cv=5, iid=False\n",
    ")\n",
    "grid_search_knn_5_fold.fit(\n",
    "    X_train_2.values, y_train_2.values.ravel(),\n",
    ")\n",
    "fig, ax = plt.subplots()\n",
    "ax.plot(\n",
    "    k_grid,\n",
    "    grid_search_knn_5_fold.cv_results_[\"mean_test_score\"],\n",
    "    label=\"Validation, 5-fold\",\n",
    ")\n",
    "ax.grid()\n",
    "ax.set_xlabel(\"k\")\n",
    "ax.set_ylabel(\"Accuracy score\")\n",
    "ax.legend()\n",
    "fig.tight_layout()\n",
    "plt.show()"
   ]
  },
  {
   "cell_type": "code",
   "execution_count": 8,
   "metadata": {},
   "outputs": [
    {
     "name": "stdout",
     "output_type": "stream",
     "text": [
      "R^2 score of forward model: 0.64\n"
     ]
    },
    {
     "data": {
      "text/html": [
       "<div>\n",
       "<style scoped>\n",
       "    .dataframe tbody tr th:only-of-type {\n",
       "        vertical-align: middle;\n",
       "    }\n",
       "\n",
       "    .dataframe tbody tr th {\n",
       "        vertical-align: top;\n",
       "    }\n",
       "\n",
       "    .dataframe thead th {\n",
       "        text-align: right;\n",
       "    }\n",
       "</style>\n",
       "<table border=\"1\" class=\"dataframe\">\n",
       "  <thead>\n",
       "    <tr style=\"text-align: right;\">\n",
       "      <th></th>\n",
       "      <th>Feature</th>\n",
       "      <th>$\\beta_i$</th>\n",
       "      <th>$\\pm$</th>\n",
       "      <th>p-values</th>\n",
       "    </tr>\n",
       "  </thead>\n",
       "  <tbody>\n",
       "    <tr>\n",
       "      <th>0</th>\n",
       "      <td>Intercept</td>\n",
       "      <td>2.316850</td>\n",
       "      <td>0.009643</td>\n",
       "      <td>0.000000e+00</td>\n",
       "    </tr>\n",
       "    <tr>\n",
       "      <th>1</th>\n",
       "      <td>FLGEW</td>\n",
       "      <td>0.081659</td>\n",
       "      <td>0.020263</td>\n",
       "      <td>7.432206e-05</td>\n",
       "    </tr>\n",
       "    <tr>\n",
       "      <th>2</th>\n",
       "      <td>FLGROSS</td>\n",
       "      <td>0.194927</td>\n",
       "      <td>0.020334</td>\n",
       "      <td>0.000000e+00</td>\n",
       "    </tr>\n",
       "    <tr>\n",
       "      <th>3</th>\n",
       "      <td>FSPFEI</td>\n",
       "      <td>0.201283</td>\n",
       "      <td>0.076098</td>\n",
       "      <td>8.691650e-03</td>\n",
       "    </tr>\n",
       "    <tr>\n",
       "      <th>4</th>\n",
       "      <td>Female</td>\n",
       "      <td>-0.082043</td>\n",
       "      <td>0.014833</td>\n",
       "      <td>8.098343e-08</td>\n",
       "    </tr>\n",
       "    <tr>\n",
       "      <th>5</th>\n",
       "      <td>Male</td>\n",
       "      <td>0.082043</td>\n",
       "      <td>0.015330</td>\n",
       "      <td>1.989056e-07</td>\n",
       "    </tr>\n",
       "  </tbody>\n",
       "</table>\n",
       "</div>"
      ],
      "text/plain": [
       "     Feature  $\\beta_i$     $\\pm$      p-values\n",
       "0  Intercept   2.316850  0.009643  0.000000e+00\n",
       "1      FLGEW   0.081659  0.020263  7.432206e-05\n",
       "2    FLGROSS   0.194927  0.020334  0.000000e+00\n",
       "3     FSPFEI   0.201283  0.076098  8.691650e-03\n",
       "4     Female  -0.082043  0.014833  8.098343e-08\n",
       "5       Male   0.082043  0.015330  1.989056e-07"
      ]
     },
     "execution_count": 8,
     "metadata": {},
     "output_type": "execute_result"
    },
    {
     "data": {
      "application/javascript": [
       "\n",
       "            setTimeout(function() {\n",
       "                var nbb_cell_id = 8;\n",
       "                var nbb_formatted_code = \"# Model to send in to function. It is an OLS regressor.\\nbase_regressor = skllm.LinearRegression()\\n# Running forward selection\\n(\\n    regressor_increased,\\n    X_increased_train,\\n    result_table_increased,\\n    omitted_features_increased,\\n) = forward_selection(base_regressor, X_train, y_train, max_p_limit=1e-2)\\n# Using list of reduced features to also create test feature matrix with same features\\nX_increased_test = X_test.drop(columns=omitted_features_increased).sort_index(axis=1)\\n# Printing results\\nprint(\\n    f\\\"R^2 score of forward model: {regressor_increased.score(X_increased_test, y_test):.2f}\\\"\\n)\\nresult_table_increased\";\n",
       "                var nbb_cells = Jupyter.notebook.get_cells();\n",
       "                for (var i = 0; i < nbb_cells.length; ++i) {\n",
       "                    if (nbb_cells[i].input_prompt_number == nbb_cell_id) {\n",
       "                        nbb_cells[i].set_text(nbb_formatted_code);\n",
       "                        break;\n",
       "                    }\n",
       "                }\n",
       "            }, 500);\n",
       "            "
      ],
      "text/plain": [
       "<IPython.core.display.Javascript object>"
      ]
     },
     "metadata": {},
     "output_type": "display_data"
    }
   ],
   "source": [
    "# Model to send in to function. It is an OLS regressor.\n",
    "base_regressor = skllm.LinearRegression()\n",
    "# Running forward selection\n",
    "(\n",
    "    regressor_increased,\n",
    "    X_increased_train,\n",
    "    result_table_increased,\n",
    "    omitted_features_increased,\n",
    ") = forward_selection(base_regressor, X_train, y_train, max_p_limit=1e-2)\n",
    "# Using list of reduced features to also create test feature matrix with same features\n",
    "X_increased_test = X_test.drop(columns=omitted_features_increased).sort_index(axis=1)\n",
    "# Printing results\n",
    "print(\n",
    "    f\"R^2 score of forward model: {regressor_increased.score(X_increased_test, y_test):.2f}\"\n",
    ")\n",
    "result_table_increased"
   ]
  },
  {
   "cell_type": "markdown",
   "metadata": {},
   "source": [
    "For the reduced models with $p_\\text{max}=0.01$, both forward and backward selection give the exact same model, and therefore the same features. They also get a slightly better $R^2$-score, possibly because they have less features, and are therefore less likely to overfit on the training data. I chose to look at $R^2$ instead of MSE as I feel it is a more intuitive value. However, higher $R^2$ also implies lower MSE, so the models are better.\n",
    "\n",
    "Next I will test with a less strict $p_\\text{max}=0.1$ and see how the models perform:"
   ]
  },
  {
   "cell_type": "code",
   "execution_count": 9,
   "metadata": {},
   "outputs": [
    {
     "name": "stdout",
     "output_type": "stream",
     "text": [
      "R^2 score of full model: 0.59 Backward Model: 0.61\n"
     ]
    },
    {
     "data": {
      "text/html": [
       "<div>\n",
       "<style scoped>\n",
       "    .dataframe tbody tr th:only-of-type {\n",
       "        vertical-align: middle;\n",
       "    }\n",
       "\n",
       "    .dataframe tbody tr th {\n",
       "        vertical-align: top;\n",
       "    }\n",
       "\n",
       "    .dataframe thead th {\n",
       "        text-align: right;\n",
       "    }\n",
       "</style>\n",
       "<table border=\"1\" class=\"dataframe\">\n",
       "  <thead>\n",
       "    <tr style=\"text-align: right;\">\n",
       "      <th></th>\n",
       "      <th>Feature</th>\n",
       "      <th>$\\beta_i$</th>\n",
       "      <th>$\\pm$</th>\n",
       "      <th>p-values</th>\n",
       "    </tr>\n",
       "  </thead>\n",
       "  <tbody>\n",
       "    <tr>\n",
       "      <th>0</th>\n",
       "      <td>Intercept</td>\n",
       "      <td>2.356497</td>\n",
       "      <td>0.016117</td>\n",
       "      <td>0.000000e+00</td>\n",
       "    </tr>\n",
       "    <tr>\n",
       "      <th>1</th>\n",
       "      <td>ADHEU</td>\n",
       "      <td>-0.142136</td>\n",
       "      <td>0.063179</td>\n",
       "      <td>2.534645e-02</td>\n",
       "    </tr>\n",
       "    <tr>\n",
       "      <th>2</th>\n",
       "      <td>FLGEW</td>\n",
       "      <td>0.078398</td>\n",
       "      <td>0.019691</td>\n",
       "      <td>9.011204e-05</td>\n",
       "    </tr>\n",
       "    <tr>\n",
       "      <th>3</th>\n",
       "      <td>FLGROSS</td>\n",
       "      <td>0.192652</td>\n",
       "      <td>0.019859</td>\n",
       "      <td>0.000000e+00</td>\n",
       "    </tr>\n",
       "    <tr>\n",
       "      <th>4</th>\n",
       "      <td>FMILB</td>\n",
       "      <td>-0.037702</td>\n",
       "      <td>0.014500</td>\n",
       "      <td>9.881729e-03</td>\n",
       "    </tr>\n",
       "    <tr>\n",
       "      <th>5</th>\n",
       "      <td>FNOH24</td>\n",
       "      <td>-0.032485</td>\n",
       "      <td>0.015943</td>\n",
       "      <td>4.265774e-02</td>\n",
       "    </tr>\n",
       "    <tr>\n",
       "      <th>6</th>\n",
       "      <td>FSATEM</td>\n",
       "      <td>0.139467</td>\n",
       "      <td>0.073850</td>\n",
       "      <td>6.012748e-02</td>\n",
       "    </tr>\n",
       "    <tr>\n",
       "      <th>7</th>\n",
       "      <td>FSPFEI</td>\n",
       "      <td>0.201739</td>\n",
       "      <td>0.088589</td>\n",
       "      <td>2.362726e-02</td>\n",
       "    </tr>\n",
       "    <tr>\n",
       "      <th>8</th>\n",
       "      <td>Female</td>\n",
       "      <td>-0.082866</td>\n",
       "      <td>0.015967</td>\n",
       "      <td>4.396272e-07</td>\n",
       "    </tr>\n",
       "    <tr>\n",
       "      <th>9</th>\n",
       "      <td>HOCHOZON</td>\n",
       "      <td>-0.064774</td>\n",
       "      <td>0.032861</td>\n",
       "      <td>4.982463e-02</td>\n",
       "    </tr>\n",
       "    <tr>\n",
       "      <th>10</th>\n",
       "      <td>Male</td>\n",
       "      <td>0.082866</td>\n",
       "      <td>0.016196</td>\n",
       "      <td>6.252207e-07</td>\n",
       "    </tr>\n",
       "  </tbody>\n",
       "</table>\n",
       "</div>"
      ],
      "text/plain": [
       "      Feature  $\\beta_i$     $\\pm$      p-values\n",
       "0   Intercept   2.356497  0.016117  0.000000e+00\n",
       "1       ADHEU  -0.142136  0.063179  2.534645e-02\n",
       "2       FLGEW   0.078398  0.019691  9.011204e-05\n",
       "3     FLGROSS   0.192652  0.019859  0.000000e+00\n",
       "4       FMILB  -0.037702  0.014500  9.881729e-03\n",
       "5      FNOH24  -0.032485  0.015943  4.265774e-02\n",
       "6      FSATEM   0.139467  0.073850  6.012748e-02\n",
       "7      FSPFEI   0.201739  0.088589  2.362726e-02\n",
       "8      Female  -0.082866  0.015967  4.396272e-07\n",
       "9    HOCHOZON  -0.064774  0.032861  4.982463e-02\n",
       "10       Male   0.082866  0.016196  6.252207e-07"
      ]
     },
     "execution_count": 9,
     "metadata": {},
     "output_type": "execute_result"
    },
    {
     "data": {
      "application/javascript": [
       "\n",
       "            setTimeout(function() {\n",
       "                var nbb_cell_id = 9;\n",
       "                var nbb_formatted_code = \"# Model to send in to function. It is an OLS regressor.\\nbase_regressor = skllm.LinearRegression()\\n# Running backwards elimination\\n(\\n    regressor_reduced_less_strict,\\n    X_reduce_train_less_strict,\\n    result_table_reduced_less_strict,\\n    removed_features_less_strict,\\n) = backward_elimination(base_regressor, X_train, y_train, max_p_limit=1e-1)\\n# Using list of reduced features to also create test feature matrix with same features\\nX_reduce_test_less_strict = X_test.drop(\\n    columns=removed_features_less_strict\\n).sort_index(axis=1)\\n# Printing results\\nprint(\\n    f\\\"R^2 score of full model: {ols_reg.score(X_test, y_test):.2f}\\\"\\n    + f\\\" Backward Model: {regressor_reduced_less_strict.score(X_reduce_test_less_strict, y_test):.2f}\\\"\\n)\\nresult_table_reduced_less_strict\";\n",
       "                var nbb_cells = Jupyter.notebook.get_cells();\n",
       "                for (var i = 0; i < nbb_cells.length; ++i) {\n",
       "                    if (nbb_cells[i].input_prompt_number == nbb_cell_id) {\n",
       "                        nbb_cells[i].set_text(nbb_formatted_code);\n",
       "                        break;\n",
       "                    }\n",
       "                }\n",
       "            }, 500);\n",
       "            "
      ],
      "text/plain": [
       "<IPython.core.display.Javascript object>"
      ]
     },
     "metadata": {},
     "output_type": "display_data"
    }
   ],
   "source": [
    "# Model to send in to function. It is an OLS regressor.\n",
    "base_regressor = skllm.LinearRegression()\n",
    "# Running backwards elimination\n",
    "(\n",
    "    regressor_reduced_less_strict,\n",
    "    X_reduce_train_less_strict,\n",
    "    result_table_reduced_less_strict,\n",
    "    removed_features_less_strict,\n",
    ") = backward_elimination(base_regressor, X_train, y_train, max_p_limit=1e-1)\n",
    "# Using list of reduced features to also create test feature matrix with same features\n",
    "X_reduce_test_less_strict = X_test.drop(\n",
    "    columns=removed_features_less_strict\n",
    ").sort_index(axis=1)\n",
    "# Printing results\n",
    "print(\n",
    "    f\"R^2 score of full model: {ols_reg.score(X_test, y_test):.2f}\"\n",
    "    + f\" Backward Model: {regressor_reduced_less_strict.score(X_reduce_test_less_strict, y_test):.2f}\"\n",
    ")\n",
    "result_table_reduced_less_strict"
   ]
  },
  {
   "cell_type": "code",
   "execution_count": 10,
   "metadata": {},
   "outputs": [
    {
     "name": "stdout",
     "output_type": "stream",
     "text": [
      "R^2 score of forward model: 0.64\n"
     ]
    },
    {
     "data": {
      "text/html": [
       "<div>\n",
       "<style scoped>\n",
       "    .dataframe tbody tr th:only-of-type {\n",
       "        vertical-align: middle;\n",
       "    }\n",
       "\n",
       "    .dataframe tbody tr th {\n",
       "        vertical-align: top;\n",
       "    }\n",
       "\n",
       "    .dataframe thead th {\n",
       "        text-align: right;\n",
       "    }\n",
       "</style>\n",
       "<table border=\"1\" class=\"dataframe\">\n",
       "  <thead>\n",
       "    <tr style=\"text-align: right;\">\n",
       "      <th></th>\n",
       "      <th>Feature</th>\n",
       "      <th>$\\beta_i$</th>\n",
       "      <th>$\\pm$</th>\n",
       "      <th>p-values</th>\n",
       "    </tr>\n",
       "  </thead>\n",
       "  <tbody>\n",
       "    <tr>\n",
       "      <th>0</th>\n",
       "      <td>Intercept</td>\n",
       "      <td>2.316850</td>\n",
       "      <td>0.009643</td>\n",
       "      <td>0.000000e+00</td>\n",
       "    </tr>\n",
       "    <tr>\n",
       "      <th>1</th>\n",
       "      <td>FLGEW</td>\n",
       "      <td>0.081659</td>\n",
       "      <td>0.020263</td>\n",
       "      <td>7.432206e-05</td>\n",
       "    </tr>\n",
       "    <tr>\n",
       "      <th>2</th>\n",
       "      <td>FLGROSS</td>\n",
       "      <td>0.194927</td>\n",
       "      <td>0.020334</td>\n",
       "      <td>0.000000e+00</td>\n",
       "    </tr>\n",
       "    <tr>\n",
       "      <th>3</th>\n",
       "      <td>FSPFEI</td>\n",
       "      <td>0.201283</td>\n",
       "      <td>0.076098</td>\n",
       "      <td>8.691650e-03</td>\n",
       "    </tr>\n",
       "    <tr>\n",
       "      <th>4</th>\n",
       "      <td>Female</td>\n",
       "      <td>-0.082043</td>\n",
       "      <td>0.014833</td>\n",
       "      <td>8.098343e-08</td>\n",
       "    </tr>\n",
       "    <tr>\n",
       "      <th>5</th>\n",
       "      <td>Male</td>\n",
       "      <td>0.082043</td>\n",
       "      <td>0.015330</td>\n",
       "      <td>1.989056e-07</td>\n",
       "    </tr>\n",
       "  </tbody>\n",
       "</table>\n",
       "</div>"
      ],
      "text/plain": [
       "     Feature  $\\beta_i$     $\\pm$      p-values\n",
       "0  Intercept   2.316850  0.009643  0.000000e+00\n",
       "1      FLGEW   0.081659  0.020263  7.432206e-05\n",
       "2    FLGROSS   0.194927  0.020334  0.000000e+00\n",
       "3     FSPFEI   0.201283  0.076098  8.691650e-03\n",
       "4     Female  -0.082043  0.014833  8.098343e-08\n",
       "5       Male   0.082043  0.015330  1.989056e-07"
      ]
     },
     "execution_count": 10,
     "metadata": {},
     "output_type": "execute_result"
    },
    {
     "data": {
      "application/javascript": [
       "\n",
       "            setTimeout(function() {\n",
       "                var nbb_cell_id = 10;\n",
       "                var nbb_formatted_code = \"# Model to send in to function. It is an OLS regressor.\\nbase_regressor = skllm.LinearRegression()\\n# Running forward selection\\n(\\n    regressor_increased_less_strict,\\n    X_increased_train_less_strict,\\n    result_table_increased_less_strict,\\n    omitted_features_increased_less_strict,\\n) = forward_selection(base_regressor, X_train, y_train, max_p_limit=1e-1)\\n# Using list of reduced features to also create test feature matrix with same features\\nX_increased_test_less_strict = X_test.drop(\\n    columns=omitted_features_increased_less_strict\\n).sort_index(axis=1)\\n# Printing results\\nprint(\\n    f\\\"R^2 score of forward model: {regressor_increased_less_strict.score(X_increased_test_less_strict, y_test):.2f}\\\"\\n)\\nresult_table_increased_less_strict\";\n",
       "                var nbb_cells = Jupyter.notebook.get_cells();\n",
       "                for (var i = 0; i < nbb_cells.length; ++i) {\n",
       "                    if (nbb_cells[i].input_prompt_number == nbb_cell_id) {\n",
       "                        nbb_cells[i].set_text(nbb_formatted_code);\n",
       "                        break;\n",
       "                    }\n",
       "                }\n",
       "            }, 500);\n",
       "            "
      ],
      "text/plain": [
       "<IPython.core.display.Javascript object>"
      ]
     },
     "metadata": {},
     "output_type": "display_data"
    }
   ],
   "source": [
    "# Model to send in to function. It is an OLS regressor.\n",
    "base_regressor = skllm.LinearRegression()\n",
    "# Running forward selection\n",
    "(\n",
    "    regressor_increased_less_strict,\n",
    "    X_increased_train_less_strict,\n",
    "    result_table_increased_less_strict,\n",
    "    omitted_features_increased_less_strict,\n",
    ") = forward_selection(base_regressor, X_train, y_train, max_p_limit=1e-1)\n",
    "# Using list of reduced features to also create test feature matrix with same features\n",
    "X_increased_test_less_strict = X_test.drop(\n",
    "    columns=omitted_features_increased_less_strict\n",
    ").sort_index(axis=1)\n",
    "# Printing results\n",
    "print(\n",
    "    f\"R^2 score of forward model: {regressor_increased_less_strict.score(X_increased_test_less_strict, y_test):.2f}\"\n",
    ")\n",
    "result_table_increased_less_strict"
   ]
  },
  {
   "cell_type": "markdown",
   "metadata": {},
   "source": [
    "Now the models are not the same anymore. This is to be expected, as the p-values estimated are not the same for each feature independent of the other features. The backward elimination model seems to give a better $R^2$-score this time."
   ]
  },
  {
   "cell_type": "markdown",
   "metadata": {},
   "source": [
    "# Task 1.4\n",
    "CV is easily implemented in Scikit-Learn. Bootstap on the other hand... I need to create my own class (Maybe there is a better way of doing this than what I'm doing...)"
   ]
  },
  {
   "cell_type": "code",
   "execution_count": 11,
   "metadata": {},
   "outputs": [
    {
     "name": "stdout",
     "output_type": "stream",
     "text": [
      "Best hyperparameter is 1.12e-02, giving a test R^2 score of 0.62\n"
     ]
    },
    {
     "data": {
      "application/javascript": [
       "\n",
       "            setTimeout(function() {\n",
       "                var nbb_cell_id = 11;\n",
       "                var nbb_formatted_code = \"# 5-fold cross validation, n-jobs=-1 is for parallelisation (use multiple cpu cores)\\nlasso_cv = skllm.LassoCV(n_jobs=-1, cv=5).fit(X_train, y_train)\\n# List of hyperparameters\\nlambdas_lasso_cv = lasso_cv.alphas_\\n# List of validation mean squared errors. Need to average them over axis 1 to get average across all 5 folds\\nmses_lasso_cv = lasso_cv.mse_path_.mean(axis=1)\\nprint(\\n    f\\\"Best hyperparameter is {lasso_cv.alpha_:.2e}, giving a test R^2 score of {lasso_cv.score(X_test, y_test):.2f}\\\"\\n)\";\n",
       "                var nbb_cells = Jupyter.notebook.get_cells();\n",
       "                for (var i = 0; i < nbb_cells.length; ++i) {\n",
       "                    if (nbb_cells[i].input_prompt_number == nbb_cell_id) {\n",
       "                        nbb_cells[i].set_text(nbb_formatted_code);\n",
       "                        break;\n",
       "                    }\n",
       "                }\n",
       "            }, 500);\n",
       "            "
      ],
      "text/plain": [
       "<IPython.core.display.Javascript object>"
      ]
     },
     "metadata": {},
     "output_type": "display_data"
    }
   ],
   "source": [
    "# 5-fold cross validation, n-jobs=-1 is for parallelisation (use multiple cpu cores)\n",
    "lasso_cv = skllm.LassoCV(n_jobs=-1, cv=5).fit(X_train, y_train)\n",
    "# List of hyperparameters\n",
    "lambdas_lasso_cv = lasso_cv.alphas_\n",
    "# List of validation mean squared errors. Need to average them over axis 1 to get average across all 5 folds\n",
    "mses_lasso_cv = lasso_cv.mse_path_.mean(axis=1)\n",
    "print(\n",
    "    f\"Best hyperparameter is {lasso_cv.alpha_:.2e}, giving a test R^2 score of {lasso_cv.score(X_test, y_test):.2f}\"\n",
    ")"
   ]
  },
  {
   "cell_type": "markdown",
   "metadata": {},
   "source": [
    "This seems to be very similar to forward and backward selection. Now I need to make a new class for bootstrap manually implemented."
   ]
  },
  {
   "cell_type": "code",
   "execution_count": 12,
   "metadata": {},
   "outputs": [
    {
     "name": "stdout",
     "output_type": "stream",
     "text": [
      "Best hyperparameter is 2.42e-03, giving a test R^2 score of 0.62\n"
     ]
    },
    {
     "data": {
      "application/javascript": [
       "\n",
       "            setTimeout(function() {\n",
       "                var nbb_cell_id = 12;\n",
       "                var nbb_formatted_code = \"class Bootstrap:\\n    def __init__(self, y):\\n        \\\"\\\"\\\"\\n        I was sort of confused on how to this, so I just made a class and tried stuff. \\n        Now it works, so I won't change it anymore.\\n        This class takes y_train and saves its length.\\n        \\\"\\\"\\\"\\n        self.len_y = len(y)\\n\\n    @property\\n    def get_bootstrap(self):\\n        \\\"\\\"\\\"\\n        This method returns one train-validation bootstrap split of the training data (indices of the data).\\n        The @property is just so that i can call get_bootstrap without the () after (like in get_bootstrap()).\\n        This splits train and validation into 2/3, 1/3 of the length of the data. Not sure if that is the correct\\n        method.\\n        \\\"\\\"\\\"\\n        # All indices (0-lenght of y)\\n        indices = np.arange(self.len_y)\\n        # Picking random indices with replacement.\\n        indices_train = np.random.choice(\\n            indices, replace=True, size=int(self.len_y * 0.67)\\n        )\\n        indices_validate = np.random.choice(\\n            indices, replace=True, size=int(self.len_y * 0.37)\\n        )\\n        # Returns a list of lists\\n        return [indices_train.tolist(), indices_validate.tolist()]\\n\\n\\n# Creating instance of Bootstrap class\\nbootstrap = Bootstrap(y_train)\\nsplits = []\\n# This loops creates 100 different bootstrap samples\\nfor i in range(100):\\n    splits.append(bootstrap.get_bootstrap)\\n# Running LassoCV with bootstrap instead of CV.\\nlasso_bootstrap = skllm.LassoCV(n_jobs=-1, cv=splits).fit(X_train, y_train)\\n\\n# Lambdas tried by the solver\\nlambdas_lasso_bootstrap = lasso_bootstrap.alphas_\\n# List of validation mean squared errors. Need to average them over axis 1 to get average across all 100 bootstraps\\nmses_lasso_bootstrap = lasso_bootstrap.mse_path_.mean(axis=1)\\n\\nprint(\\n    f\\\"Best hyperparameter is {lasso_bootstrap.alpha_:.2e}, giving a test R^2 score of {lasso_bootstrap.score(X_test, y_test):.2f}\\\"\\n)\";\n",
       "                var nbb_cells = Jupyter.notebook.get_cells();\n",
       "                for (var i = 0; i < nbb_cells.length; ++i) {\n",
       "                    if (nbb_cells[i].input_prompt_number == nbb_cell_id) {\n",
       "                        nbb_cells[i].set_text(nbb_formatted_code);\n",
       "                        break;\n",
       "                    }\n",
       "                }\n",
       "            }, 500);\n",
       "            "
      ],
      "text/plain": [
       "<IPython.core.display.Javascript object>"
      ]
     },
     "metadata": {},
     "output_type": "display_data"
    }
   ],
   "source": [
    "class Bootstrap:\n",
    "    def __init__(self, y):\n",
    "        \"\"\"\n",
    "        I was sort of confused on how to this, so I just made a class and tried stuff. \n",
    "        Now it works, so I won't change it anymore.\n",
    "        This class takes y_train and saves its length.\n",
    "        \"\"\"\n",
    "        self.len_y = len(y)\n",
    "\n",
    "    @property\n",
    "    def get_bootstrap(self):\n",
    "        \"\"\"\n",
    "        This method returns one train-validation bootstrap split of the training data (indices of the data).\n",
    "        The @property is just so that i can call get_bootstrap without the () after (like in get_bootstrap()).\n",
    "        This splits train and validation into 2/3, 1/3 of the length of the data. Not sure if that is the correct\n",
    "        method.\n",
    "        \"\"\"\n",
    "        # All indices (0-lenght of y)\n",
    "        indices = np.arange(self.len_y)\n",
    "        # Picking random indices with replacement.\n",
    "        indices_train = np.random.choice(\n",
    "            indices, replace=True, size=int(self.len_y * 0.67)\n",
    "        )\n",
    "        indices_validate = np.random.choice(\n",
    "            indices, replace=True, size=int(self.len_y * 0.37)\n",
    "        )\n",
    "        # Returns a list of lists\n",
    "        return [indices_train.tolist(), indices_validate.tolist()]\n",
    "\n",
    "\n",
    "# Creating instance of Bootstrap class\n",
    "bootstrap = Bootstrap(y_train)\n",
    "splits = []\n",
    "# This loops creates 100 different bootstrap samples\n",
    "for i in range(100):\n",
    "    splits.append(bootstrap.get_bootstrap)\n",
    "# Running LassoCV with bootstrap instead of CV.\n",
    "lasso_bootstrap = skllm.LassoCV(n_jobs=-1, cv=splits).fit(X_train, y_train)\n",
    "\n",
    "# Lambdas tried by the solver\n",
    "lambdas_lasso_bootstrap = lasso_bootstrap.alphas_\n",
    "# List of validation mean squared errors. Need to average them over axis 1 to get average across all 100 bootstraps\n",
    "mses_lasso_bootstrap = lasso_bootstrap.mse_path_.mean(axis=1)\n",
    "\n",
    "print(\n",
    "    f\"Best hyperparameter is {lasso_bootstrap.alpha_:.2e}, giving a test R^2 score of {lasso_bootstrap.score(X_test, y_test):.2f}\"\n",
    ")"
   ]
  },
  {
   "cell_type": "code",
   "execution_count": 13,
   "metadata": {},
   "outputs": [
    {
     "data": {
      "image/png": "[encoded data removed]",
      "text/plain": [
       "<Figure size 720x482.4 with 1 Axes>"
      ]
     },
     "metadata": {
      "needs_background": "light"
     },
     "output_type": "display_data"
    },
    {
     "data": {
      "application/javascript": [
       "\n",
       "            setTimeout(function() {\n",
       "                var nbb_cell_id = 13;\n",
       "                var nbb_formatted_code = \"# Fixing font sizes of plots\\nfonts = {\\n    \\\"font.family\\\": \\\"serif\\\",\\n    \\\"axes.labelsize\\\": 12,\\n    \\\"font.size\\\": 12,\\n    \\\"legend.fontsize\\\": 12,\\n    \\\"xtick.labelsize\\\": 12,\\n    \\\"ytick.labelsize\\\": 12,\\n}\\n\\nplt.rcParams.update(fonts)\\n\\n# Log plot\\nplt.figure(figsize=(10, 6.7))\\nplt.semilogx(lambdas_lasso_bootstrap, mses_lasso_bootstrap, label=\\\"Bootsrap\\\")\\nplt.semilogx(lambdas_lasso_cv, mses_lasso_cv, label=\\\"5-fold cross validation\\\")\\nplt.xlabel(r\\\"Hyperparameter $\\\\lambda$\\\")\\nplt.ylabel(r\\\"|MSE|\\\")\\nplt.title(\\\"Bootstrap lasso results\\\")\\nplt.legend()\\nplt.grid()\\nplt.tight_layout()\\nplt.show()\";\n",
       "                var nbb_cells = Jupyter.notebook.get_cells();\n",
       "                for (var i = 0; i < nbb_cells.length; ++i) {\n",
       "                    if (nbb_cells[i].input_prompt_number == nbb_cell_id) {\n",
       "                        nbb_cells[i].set_text(nbb_formatted_code);\n",
       "                        break;\n",
       "                    }\n",
       "                }\n",
       "            }, 500);\n",
       "            "
      ],
      "text/plain": [
       "<IPython.core.display.Javascript object>"
      ]
     },
     "metadata": {},
     "output_type": "display_data"
    }
   ],
   "source": [
    "# Fixing font sizes of plots\n",
    "fonts = {\n",
    "    \"font.family\": \"serif\",\n",
    "    \"axes.labelsize\": 12,\n",
    "    \"font.size\": 12,\n",
    "    \"legend.fontsize\": 12,\n",
    "    \"xtick.labelsize\": 12,\n",
    "    \"ytick.labelsize\": 12,\n",
    "}\n",
    "\n",
    "plt.rcParams.update(fonts)\n",
    "\n",
    "# Log plot\n",
    "plt.figure(figsize=(10, 6.7))\n",
    "plt.semilogx(lambdas_lasso_bootstrap, mses_lasso_bootstrap, label=\"Bootsrap\")\n",
    "plt.semilogx(lambdas_lasso_cv, mses_lasso_cv, label=\"5-fold cross validation\")\n",
    "plt.xlabel(r\"Hyperparameter $\\lambda$\")\n",
    "plt.ylabel(r\"|MSE|\")\n",
    "plt.title(\"Bootstrap lasso results\")\n",
    "plt.legend()\n",
    "plt.grid()\n",
    "plt.tight_layout()\n",
    "plt.show()"
   ]
  },
  {
   "cell_type": "markdown",
   "metadata": {},
   "source": [
    "Bootstrap and cross validation seem to estimate the error quite similarily. CV is probably a bit more realistic, as the error is a bit higher, but that i not important. The important thing is where the minimum is, and it seems to be almost the same for both methods."
   ]
  },
  {
   "cell_type": "markdown",
   "metadata": {},
   "source": [
    "# Task 1.5\n",
    "\n",
    "To determine which features are nonlinear, I plot them all:"
   ]
  },
  {
   "cell_type": "code",
   "execution_count": 14,
   "metadata": {},
   "outputs": [
    {
     "data": {
      "image/png": "[encoded data removed]",
      "text/plain": [
       "<Figure size 1440x1440 with 25 Axes>"
      ]
     },
     "metadata": {
      "needs_background": "light"
     },
     "output_type": "display_data"
    },
    {
     "data": {
      "application/javascript": [
       "\n",
       "            setTimeout(function() {\n",
       "                var nbb_cell_id = 14;\n",
       "                var nbb_formatted_code = \"fig, axes = plt.subplots(5, 5, figsize=[20, 20], sharey=True)\\naxes = axes.ravel()\\nfor i in range(X_train.values.shape[1]):\\n    sorted_indices = np.argsort(X_train.values[:, i])\\n    y_train.values[sorted_indices]\\n    axes[i].plot(X_train.values[:, i][sorted_indices], y_train.values[sorted_indices])\\n    axes[i].set_title(X_train.columns.values[i])\\nfig.suptitle(\\\"y plotted against all features\\\", fontsize=20)\\nfig.tight_layout(rect=[0, 0.03, 1, 0.95])\\nplt.show()\";\n",
       "                var nbb_cells = Jupyter.notebook.get_cells();\n",
       "                for (var i = 0; i < nbb_cells.length; ++i) {\n",
       "                    if (nbb_cells[i].input_prompt_number == nbb_cell_id) {\n",
       "                        nbb_cells[i].set_text(nbb_formatted_code);\n",
       "                        break;\n",
       "                    }\n",
       "                }\n",
       "            }, 500);\n",
       "            "
      ],
      "text/plain": [
       "<IPython.core.display.Javascript object>"
      ]
     },
     "metadata": {},
     "output_type": "display_data"
    }
   ],
   "source": [
    "fig, axes = plt.subplots(5, 5, figsize=[20, 20], sharey=True)\n",
    "axes = axes.ravel()\n",
    "for i in range(X_train.values.shape[1]):\n",
    "    sorted_indices = np.argsort(X_train.values[:, i])\n",
    "    y_train.values[sorted_indices]\n",
    "    axes[i].plot(X_train.values[:, i][sorted_indices], y_train.values[sorted_indices])\n",
    "    axes[i].set_title(X_train.columns.values[i])\n",
    "fig.suptitle(\"y plotted against all features\", fontsize=20)\n",
    "fig.tight_layout(rect=[0, 0.03, 1, 0.95])\n",
    "plt.show()"
   ]
  },
  {
   "cell_type": "markdown",
   "metadata": {},
   "source": [
    "FLGEW, FTEH24 and AGEBGEW to me seem nonlinear."
   ]
  },
  {
   "cell_type": "code",
   "execution_count": 15,
   "metadata": {},
   "outputs": [
    {
     "name": "stderr",
     "output_type": "stream",
     "text": [
      "100% (100 of 100) |######################| Elapsed Time: 0:00:11 Time:  0:00:11\n"
     ]
    },
    {
     "data": {
      "application/javascript": [
       "\n",
       "            setTimeout(function() {\n",
       "                var nbb_cell_id = 15;\n",
       "                var nbb_formatted_code = \"i  # Splines and betas. pygam.s is a spline, pyham.l is a linear feature.\\nfeatures_gam = pygam.l(0)\\n\\nnonlinear_features = [\\\"FLGEW\\\", \\\"FTEH24\\\", \\\"AGEBGEW\\\"]\\n\\n# Setting up splines for all categorical values.\\nfor i, feature in enumerate(X_train.columns.values[1:]):\\n    if feature in nonlinear_features:\\n        features_gam += pygam.l(i) + pygam.s(i)\\n    else:\\n        features_gam += pygam.l(i)\\n\\n# Lambdas for ramdomized search of penalties.\\nlambdas = np.exp(np.random.rand(100, len(features_gam)) * 3 - 3)\\n# Fitting a GAM-model and searching for best hyperparameters lambda\\ngam = pygam.LinearGAM(features_gam).gridsearch(\\n    X_train.values, y_train.values, lam=lambdas\\n)\";\n",
       "                var nbb_cells = Jupyter.notebook.get_cells();\n",
       "                for (var i = 0; i < nbb_cells.length; ++i) {\n",
       "                    if (nbb_cells[i].input_prompt_number == nbb_cell_id) {\n",
       "                        nbb_cells[i].set_text(nbb_formatted_code);\n",
       "                        break;\n",
       "                    }\n",
       "                }\n",
       "            }, 500);\n",
       "            "
      ],
      "text/plain": [
       "<IPython.core.display.Javascript object>"
      ]
     },
     "metadata": {},
     "output_type": "display_data"
    }
   ],
   "source": [
    "i  # Splines and betas. pygam.s is a spline, pyham.l is a linear feature.\n",
    "features_gam = pygam.l(0)\n",
    "\n",
    "nonlinear_features = [\"FLGEW\", \"FTEH24\", \"AGEBGEW\"]\n",
    "\n",
    "# Setting up splines for all categorical values.\n",
    "for i, feature in enumerate(X_train.columns.values[1:]):\n",
    "    if feature in nonlinear_features:\n",
    "        features_gam += pygam.l(i) + pygam.s(i)\n",
    "    else:\n",
    "        features_gam += pygam.l(i)\n",
    "\n",
    "# Lambdas for ramdomized search of penalties.\n",
    "lambdas = np.exp(np.random.rand(100, len(features_gam)) * 3 - 3)\n",
    "# Fitting a GAM-model and searching for best hyperparameters lambda\n",
    "gam = pygam.LinearGAM(features_gam).gridsearch(\n",
    "    X_train.values, y_train.values, lam=lambdas\n",
    ")"
   ]
  },
  {
   "cell_type": "code",
   "execution_count": 16,
   "metadata": {},
   "outputs": [
    {
     "name": "stdout",
     "output_type": "stream",
     "text": [
      "R^2 score test: 0.60, R^2 score train: 0.66\n"
     ]
    },
    {
     "data": {
      "application/javascript": [
       "\n",
       "            setTimeout(function() {\n",
       "                var nbb_cell_id = 16;\n",
       "                var nbb_formatted_code = \"# R^2 score. There was a bug with pygam so I had to calculate it like this.\\nr2_test_gam = gam._estimate_r2(X_test, y_test)[\\\"explained_deviance\\\"]\\nr2_train_gam = gam._estimate_r2(X_train, y_train)[\\\"explained_deviance\\\"]\\nprint(f\\\"R^2 score test: {r2_test_gam:.2f}, R^2 score train: {r2_train_gam:.2f}\\\")\";\n",
       "                var nbb_cells = Jupyter.notebook.get_cells();\n",
       "                for (var i = 0; i < nbb_cells.length; ++i) {\n",
       "                    if (nbb_cells[i].input_prompt_number == nbb_cell_id) {\n",
       "                        nbb_cells[i].set_text(nbb_formatted_code);\n",
       "                        break;\n",
       "                    }\n",
       "                }\n",
       "            }, 500);\n",
       "            "
      ],
      "text/plain": [
       "<IPython.core.display.Javascript object>"
      ]
     },
     "metadata": {},
     "output_type": "display_data"
    }
   ],
   "source": [
    "# R^2 score. There was a bug with pygam so I had to calculate it like this.\n",
    "r2_test_gam = gam._estimate_r2(X_test, y_test)[\"explained_deviance\"]\n",
    "r2_train_gam = gam._estimate_r2(X_train, y_train)[\"explained_deviance\"]\n",
    "print(f\"R^2 score test: {r2_test_gam:.2f}, R^2 score train: {r2_train_gam:.2f}\")"
   ]
  },
  {
   "cell_type": "markdown",
   "metadata": {},
   "source": [
    "This seems to make no improvement. I am wondering if something is implemented wrongly or if this was to be expected. \n",
    "Could perheps try many more penalties. The increased complexity may have lead to overfitting as seen on the difference between train and test $R^2$.\n",
    "\n",
    "Next I test with adding higher orders of the nonlinear features."
   ]
  },
  {
   "cell_type": "code",
   "execution_count": 17,
   "metadata": {},
   "outputs": [
    {
     "name": "stdout",
     "output_type": "stream",
     "text": [
      "R2 score test:0.58, train: 0.67\n"
     ]
    },
    {
     "data": {
      "text/html": [
       "<div>\n",
       "<style scoped>\n",
       "    .dataframe tbody tr th:only-of-type {\n",
       "        vertical-align: middle;\n",
       "    }\n",
       "\n",
       "    .dataframe tbody tr th {\n",
       "        vertical-align: top;\n",
       "    }\n",
       "\n",
       "    .dataframe thead th {\n",
       "        text-align: right;\n",
       "    }\n",
       "</style>\n",
       "<table border=\"1\" class=\"dataframe\">\n",
       "  <thead>\n",
       "    <tr style=\"text-align: right;\">\n",
       "      <th></th>\n",
       "      <th>Feature</th>\n",
       "      <th>$\\beta_i$</th>\n",
       "      <th>$\\pm$</th>\n",
       "      <th>p-values</th>\n",
       "    </tr>\n",
       "  </thead>\n",
       "  <tbody>\n",
       "    <tr>\n",
       "      <th>0</th>\n",
       "      <td>Intercept</td>\n",
       "      <td>2.334888</td>\n",
       "      <td>0.027789</td>\n",
       "      <td>0.000000e+00</td>\n",
       "    </tr>\n",
       "    <tr>\n",
       "      <th>1</th>\n",
       "      <td>ALTER</td>\n",
       "      <td>0.001525</td>\n",
       "      <td>0.017421</td>\n",
       "      <td>9.303320e-01</td>\n",
       "    </tr>\n",
       "    <tr>\n",
       "      <th>2</th>\n",
       "      <td>ADHEU</td>\n",
       "      <td>-0.143088</td>\n",
       "      <td>0.081172</td>\n",
       "      <td>7.917633e-02</td>\n",
       "    </tr>\n",
       "    <tr>\n",
       "      <th>3</th>\n",
       "      <td>HOCHOZON</td>\n",
       "      <td>-0.050491</td>\n",
       "      <td>0.042714</td>\n",
       "      <td>2.383160e-01</td>\n",
       "    </tr>\n",
       "    <tr>\n",
       "      <th>4</th>\n",
       "      <td>AMATOP</td>\n",
       "      <td>-0.044812</td>\n",
       "      <td>0.037981</td>\n",
       "      <td>2.391988e-01</td>\n",
       "    </tr>\n",
       "    <tr>\n",
       "      <th>5</th>\n",
       "      <td>AVATOP</td>\n",
       "      <td>-0.040621</td>\n",
       "      <td>0.036988</td>\n",
       "      <td>2.731726e-01</td>\n",
       "    </tr>\n",
       "    <tr>\n",
       "      <th>6</th>\n",
       "      <td>ADEKZ</td>\n",
       "      <td>0.053986</td>\n",
       "      <td>0.038059</td>\n",
       "      <td>1.573043e-01</td>\n",
       "    </tr>\n",
       "    <tr>\n",
       "      <th>7</th>\n",
       "      <td>ARAUCH</td>\n",
       "      <td>0.020233</td>\n",
       "      <td>0.033452</td>\n",
       "      <td>5.458354e-01</td>\n",
       "    </tr>\n",
       "    <tr>\n",
       "      <th>8</th>\n",
       "      <td>AGEBGEW</td>\n",
       "      <td>0.147102</td>\n",
       "      <td>0.116830</td>\n",
       "      <td>2.091776e-01</td>\n",
       "    </tr>\n",
       "    <tr>\n",
       "      <th>9</th>\n",
       "      <td>FSNIGHT</td>\n",
       "      <td>0.014734</td>\n",
       "      <td>0.051801</td>\n",
       "      <td>7.763192e-01</td>\n",
       "    </tr>\n",
       "    <tr>\n",
       "      <th>10</th>\n",
       "      <td>FLGROSS</td>\n",
       "      <td>0.198366</td>\n",
       "      <td>0.024728</td>\n",
       "      <td>4.196643e-14</td>\n",
       "    </tr>\n",
       "    <tr>\n",
       "      <th>11</th>\n",
       "      <td>FMILB</td>\n",
       "      <td>-0.043546</td>\n",
       "      <td>0.020359</td>\n",
       "      <td>3.342177e-02</td>\n",
       "    </tr>\n",
       "    <tr>\n",
       "      <th>12</th>\n",
       "      <td>FNOH24</td>\n",
       "      <td>-0.028466</td>\n",
       "      <td>0.019290</td>\n",
       "      <td>1.412996e-01</td>\n",
       "    </tr>\n",
       "    <tr>\n",
       "      <th>13</th>\n",
       "      <td>FTIER</td>\n",
       "      <td>-0.003759</td>\n",
       "      <td>0.018336</td>\n",
       "      <td>8.377328e-01</td>\n",
       "    </tr>\n",
       "    <tr>\n",
       "      <th>14</th>\n",
       "      <td>FPOLL</td>\n",
       "      <td>-0.006909</td>\n",
       "      <td>0.030001</td>\n",
       "      <td>8.180484e-01</td>\n",
       "    </tr>\n",
       "    <tr>\n",
       "      <th>15</th>\n",
       "      <td>FLTOTMED</td>\n",
       "      <td>-0.003580</td>\n",
       "      <td>0.015434</td>\n",
       "      <td>8.167727e-01</td>\n",
       "    </tr>\n",
       "    <tr>\n",
       "      <th>16</th>\n",
       "      <td>FO3H24</td>\n",
       "      <td>0.002126</td>\n",
       "      <td>0.035975</td>\n",
       "      <td>9.529253e-01</td>\n",
       "    </tr>\n",
       "    <tr>\n",
       "      <th>17</th>\n",
       "      <td>FSPT</td>\n",
       "      <td>0.034582</td>\n",
       "      <td>0.078716</td>\n",
       "      <td>6.608130e-01</td>\n",
       "    </tr>\n",
       "    <tr>\n",
       "      <th>18</th>\n",
       "      <td>FTEH24</td>\n",
       "      <td>0.019672</td>\n",
       "      <td>0.100644</td>\n",
       "      <td>8.451907e-01</td>\n",
       "    </tr>\n",
       "    <tr>\n",
       "      <th>19</th>\n",
       "      <td>FSATEM</td>\n",
       "      <td>0.147812</td>\n",
       "      <td>0.086653</td>\n",
       "      <td>8.930471e-02</td>\n",
       "    </tr>\n",
       "    <tr>\n",
       "      <th>20</th>\n",
       "      <td>FSAUGE</td>\n",
       "      <td>0.043857</td>\n",
       "      <td>0.051914</td>\n",
       "      <td>3.990413e-01</td>\n",
       "    </tr>\n",
       "    <tr>\n",
       "      <th>21</th>\n",
       "      <td>FLGEW</td>\n",
       "      <td>-0.026343</td>\n",
       "      <td>0.102804</td>\n",
       "      <td>7.979759e-01</td>\n",
       "    </tr>\n",
       "    <tr>\n",
       "      <th>22</th>\n",
       "      <td>FSPFEI</td>\n",
       "      <td>0.220606</td>\n",
       "      <td>0.102896</td>\n",
       "      <td>3.301269e-02</td>\n",
       "    </tr>\n",
       "    <tr>\n",
       "      <th>23</th>\n",
       "      <td>FSHLAUF</td>\n",
       "      <td>-0.058975</td>\n",
       "      <td>0.075258</td>\n",
       "      <td>4.340047e-01</td>\n",
       "    </tr>\n",
       "    <tr>\n",
       "      <th>24</th>\n",
       "      <td>Male</td>\n",
       "      <td>0.074256</td>\n",
       "      <td>0.021536</td>\n",
       "      <td>6.638417e-04</td>\n",
       "    </tr>\n",
       "    <tr>\n",
       "      <th>25</th>\n",
       "      <td>Female</td>\n",
       "      <td>-0.074256</td>\n",
       "      <td>0.019676</td>\n",
       "      <td>2.012239e-04</td>\n",
       "    </tr>\n",
       "    <tr>\n",
       "      <th>26</th>\n",
       "      <td>AGEBGEW^2</td>\n",
       "      <td>-0.141013</td>\n",
       "      <td>0.117245</td>\n",
       "      <td>2.302354e-01</td>\n",
       "    </tr>\n",
       "    <tr>\n",
       "      <th>27</th>\n",
       "      <td>FTEH24^2</td>\n",
       "      <td>-0.038124</td>\n",
       "      <td>0.107952</td>\n",
       "      <td>7.242754e-01</td>\n",
       "    </tr>\n",
       "    <tr>\n",
       "      <th>28</th>\n",
       "      <td>FLGEW^2</td>\n",
       "      <td>0.097256</td>\n",
       "      <td>0.096816</td>\n",
       "      <td>3.160980e-01</td>\n",
       "    </tr>\n",
       "  </tbody>\n",
       "</table>\n",
       "</div>"
      ],
      "text/plain": [
       "      Feature  $\\beta_i$     $\\pm$      p-values\n",
       "0   Intercept   2.334888  0.027789  0.000000e+00\n",
       "1       ALTER   0.001525  0.017421  9.303320e-01\n",
       "2       ADHEU  -0.143088  0.081172  7.917633e-02\n",
       "3    HOCHOZON  -0.050491  0.042714  2.383160e-01\n",
       "4      AMATOP  -0.044812  0.037981  2.391988e-01\n",
       "5      AVATOP  -0.040621  0.036988  2.731726e-01\n",
       "6       ADEKZ   0.053986  0.038059  1.573043e-01\n",
       "7      ARAUCH   0.020233  0.033452  5.458354e-01\n",
       "8     AGEBGEW   0.147102  0.116830  2.091776e-01\n",
       "9     FSNIGHT   0.014734  0.051801  7.763192e-01\n",
       "10    FLGROSS   0.198366  0.024728  4.196643e-14\n",
       "11      FMILB  -0.043546  0.020359  3.342177e-02\n",
       "12     FNOH24  -0.028466  0.019290  1.412996e-01\n",
       "13      FTIER  -0.003759  0.018336  8.377328e-01\n",
       "14      FPOLL  -0.006909  0.030001  8.180484e-01\n",
       "15   FLTOTMED  -0.003580  0.015434  8.167727e-01\n",
       "16     FO3H24   0.002126  0.035975  9.529253e-01\n",
       "17       FSPT   0.034582  0.078716  6.608130e-01\n",
       "18     FTEH24   0.019672  0.100644  8.451907e-01\n",
       "19     FSATEM   0.147812  0.086653  8.930471e-02\n",
       "20     FSAUGE   0.043857  0.051914  3.990413e-01\n",
       "21      FLGEW  -0.026343  0.102804  7.979759e-01\n",
       "22     FSPFEI   0.220606  0.102896  3.301269e-02\n",
       "23    FSHLAUF  -0.058975  0.075258  4.340047e-01\n",
       "24       Male   0.074256  0.021536  6.638417e-04\n",
       "25     Female  -0.074256  0.019676  2.012239e-04\n",
       "26  AGEBGEW^2  -0.141013  0.117245  2.302354e-01\n",
       "27   FTEH24^2  -0.038124  0.107952  7.242754e-01\n",
       "28    FLGEW^2   0.097256  0.096816  3.160980e-01"
      ]
     },
     "execution_count": 17,
     "metadata": {},
     "output_type": "execute_result"
    },
    {
     "data": {
      "application/javascript": [
       "\n",
       "            setTimeout(function() {\n",
       "                var nbb_cell_id = 17;\n",
       "                var nbb_formatted_code = \"# Reversing scale of training features, need this to get the second order features. Will scale them again after.\\nX_train_nonlinear = scaler.inverse_transform(\\n    X_train.loc[:, np.logical_not(np.isin(X_train.columns, categorical))]\\n)\\n# Reversing scale of testing features, need this to get the second order features. Will scale them again after.\\nX_test_nonlinear = scaler.inverse_transform(\\n    X_test.loc[:, np.logical_not(np.isin(X_test.columns, categorical))]\\n)\\n# Lists to save the nonlinear features and names\\nnonlinear_columns_train = []\\nnonlinear_columns_test = []\\nnonlinear_columns_name = []\\n# Looping over features\\nfor i, name in enumerate(\\n    X_train.loc[:, np.logical_not(np.isin(X_train.columns, categorical))]\\n):\\n    # If feature is in nonlinear_features, add it to list of nonlinear features\\n    if name in nonlinear_features:\\n        nonlinear_columns_train.append(X_train_nonlinear[:, i] ** 2)\\n        nonlinear_columns_test.append(X_test_nonlinear[:, i] ** 2)\\n        nonlinear_columns_name.append(name + \\\"^2\\\")\\n# Creating columns with right dimensions out of second order features\\nnonlinear_columns_train = np.array(nonlinear_columns_train).T\\nnonlinear_columns_test = np.array(nonlinear_columns_test).T\\n# Scaling the nonlinear features\\nscaler_nonlinear = sklpre.StandardScaler()\\nnonlinear_columns_train = scaler_nonlinear.fit_transform(nonlinear_columns_train)\\nnonlinear_columns_test = scaler_nonlinear.transform(nonlinear_columns_test)\\n# Creating new dataframes containing the nonlinear features\\nX_train_nonlinear = pd.DataFrame(\\n    nonlinear_columns_train, columns=nonlinear_columns_name, index=X_train.index.values\\n)\\nX_test_nonlinear = pd.DataFrame(\\n    nonlinear_columns_test, columns=nonlinear_columns_name, index=X_test.index.values\\n)\\n# Creating new dataframes with all features, ready for fit\\nX_train_nonlinear = X_train.join(X_train_nonlinear)\\nX_test_nonlinear = X_test.join(X_test_nonlinear)\\n\\n# Fitting OLS model\\nregressor_nonlinear = skllm.LinearRegression().fit(X_train_nonlinear, y_train)\\n\\n# R2 scores\\nr2_score_nonlinear_train = regressor_nonlinear.score(X_train_nonlinear, y_train)\\nr2_score_nonlinear_test = regressor_nonlinear.score(X_test_nonlinear, y_test)\\nprint(\\n    f\\\"R2 score test:{r2_score_nonlinear_test:.2f}, train: {r2_score_nonlinear_train:.2f}\\\"\\n)\\n# Printing table of p-values etc.\\nget_summary_linear_model(regressor_nonlinear, X_train_nonlinear, y_train)\";\n",
       "                var nbb_cells = Jupyter.notebook.get_cells();\n",
       "                for (var i = 0; i < nbb_cells.length; ++i) {\n",
       "                    if (nbb_cells[i].input_prompt_number == nbb_cell_id) {\n",
       "                        nbb_cells[i].set_text(nbb_formatted_code);\n",
       "                        break;\n",
       "                    }\n",
       "                }\n",
       "            }, 500);\n",
       "            "
      ],
      "text/plain": [
       "<IPython.core.display.Javascript object>"
      ]
     },
     "metadata": {},
     "output_type": "display_data"
    }
   ],
   "source": [
    "# Reversing scale of training features, need this to get the second order features. Will scale them again after.\n",
    "X_train_nonlinear = scaler.inverse_transform(\n",
    "    X_train.loc[:, np.logical_not(np.isin(X_train.columns, categorical))]\n",
    ")\n",
    "# Reversing scale of testing features, need this to get the second order features. Will scale them again after.\n",
    "X_test_nonlinear = scaler.inverse_transform(\n",
    "    X_test.loc[:, np.logical_not(np.isin(X_test.columns, categorical))]\n",
    ")\n",
    "# Lists to save the nonlinear features and names\n",
    "nonlinear_columns_train = []\n",
    "nonlinear_columns_test = []\n",
    "nonlinear_columns_name = []\n",
    "# Looping over features\n",
    "for i, name in enumerate(\n",
    "    X_train.loc[:, np.logical_not(np.isin(X_train.columns, categorical))]\n",
    "):\n",
    "    # If feature is in nonlinear_features, add it to list of nonlinear features\n",
    "    if name in nonlinear_features:\n",
    "        nonlinear_columns_train.append(X_train_nonlinear[:, i] ** 2)\n",
    "        nonlinear_columns_test.append(X_test_nonlinear[:, i] ** 2)\n",
    "        nonlinear_columns_name.append(name + \"^2\")\n",
    "# Creating columns with right dimensions out of second order features\n",
    "nonlinear_columns_train = np.array(nonlinear_columns_train).T\n",
    "nonlinear_columns_test = np.array(nonlinear_columns_test).T\n",
    "# Scaling the nonlinear features\n",
    "scaler_nonlinear = sklpre.StandardScaler()\n",
    "nonlinear_columns_train = scaler_nonlinear.fit_transform(nonlinear_columns_train)\n",
    "nonlinear_columns_test = scaler_nonlinear.transform(nonlinear_columns_test)\n",
    "# Creating new dataframes containing the nonlinear features\n",
    "X_train_nonlinear = pd.DataFrame(\n",
    "    nonlinear_columns_train, columns=nonlinear_columns_name, index=X_train.index.values\n",
    ")\n",
    "X_test_nonlinear = pd.DataFrame(\n",
    "    nonlinear_columns_test, columns=nonlinear_columns_name, index=X_test.index.values\n",
    ")\n",
    "# Creating new dataframes with all features, ready for fit\n",
    "X_train_nonlinear = X_train.join(X_train_nonlinear)\n",
    "X_test_nonlinear = X_test.join(X_test_nonlinear)\n",
    "\n",
    "# Fitting OLS model\n",
    "regressor_nonlinear = skllm.LinearRegression().fit(X_train_nonlinear, y_train)\n",
    "\n",
    "# R2 scores\n",
    "r2_score_nonlinear_train = regressor_nonlinear.score(X_train_nonlinear, y_train)\n",
    "r2_score_nonlinear_test = regressor_nonlinear.score(X_test_nonlinear, y_test)\n",
    "print(\n",
    "    f\"R2 score test:{r2_score_nonlinear_test:.2f}, train: {r2_score_nonlinear_train:.2f}\"\n",
    ")\n",
    "# Printing table of p-values etc.\n",
    "get_summary_linear_model(regressor_nonlinear, X_train_nonlinear, y_train)"
   ]
  },
  {
   "cell_type": "markdown",
   "metadata": {},
   "source": [
    "Seems to perform about equally to the GAM model. As we can see the p-values aren't very impressive for the new nonlinear features. They also have rather high uncertainties."
   ]
  },
  {
   "cell_type": "markdown",
   "metadata": {},
   "source": [
    "# Task 1.6\n",
    "I can't find an implementation of component-wise boosting, so I will load R into my notebook and try my best there! I feel like R still has many more features than Python when it comes to lesser known statistical learning methods, so I think it is still good to learn the best of both worlds."
   ]
  },
  {
   "cell_type": "code",
   "execution_count": 5,
   "metadata": {},
   "outputs": [
    {
     "name": "stdout",
     "output_type": "stream",
     "text": [
      "The rpy2.ipython extension is already loaded. To reload it, use:\n",
      "  %reload_ext rpy2.ipython\n"
     ]
    },
    {
     "data": {
      "application/javascript": [
       "\n",
       "            setTimeout(function() {\n",
       "                var nbb_cell_id = 5;\n",
       "                var nbb_formatted_code = \"%load_ext rpy2.ipython\\ntrain_for_r = X_train.join(y_train)\\ntest_for_r = X_test.join(y_test)\";\n",
       "                var nbb_cells = Jupyter.notebook.get_cells();\n",
       "                for (var i = 0; i < nbb_cells.length; ++i) {\n",
       "                    if (nbb_cells[i].input_prompt_number == nbb_cell_id) {\n",
       "                        nbb_cells[i].set_text(nbb_formatted_code);\n",
       "                        break;\n",
       "                    }\n",
       "                }\n",
       "            }, 500);\n",
       "            "
      ],
      "text/plain": [
       "<IPython.core.display.Javascript object>"
      ]
     },
     "metadata": {},
     "output_type": "display_data"
    }
   ],
   "source": [
    "%load_ext rpy2.ipython\n",
    "train_for_r = X_train.join(y_train)\n",
    "test_for_r = X_test.join(y_test)"
   ]
  },
  {
   "cell_type": "markdown",
   "metadata": {},
   "source": [
    "First I fit a component_wise boost with splines!"
   ]
  },
  {
   "cell_type": "code",
   "execution_count": 19,
   "metadata": {},
   "outputs": [
    {
     "name": "stdout",
     "output_type": "stream",
     "text": [
      "  1/100: risk = 0.06\n",
      " 10/100: risk = 0.041\n",
      " 20/100: risk = 0.032\n",
      " 30/100: risk = 0.028\n",
      " 40/100: risk = 0.026\n",
      " 50/100: risk = 0.024\n",
      " 60/100: risk = 0.023\n",
      " 70/100: risk = 0.022\n",
      " 80/100: risk = 0.021\n",
      " 90/100: risk = 0.021\n",
      "100/100: risk = 0.02\n",
      "\n",
      "\n",
      "Train 100 iterations in 0 Seconds.\n",
      "Final risk based on the train set: 0.02\n",
      "\n"
     ]
    },
    {
     "data": {
      "application/javascript": [
       "\n",
       "            setTimeout(function() {\n",
       "                var nbb_cell_id = 19;\n",
       "                var nbb_formatted_code = \"%%R -i train_for_r -i test_for_r\\nlibrary(compboost)\\nlibrary(ggplot2)\\nspline_boost = boostSplines(data = train_for_r, target = \\\"FFVC\\\", loss = LossQuadratic$new(), trace=10)\";\n",
       "                var nbb_cells = Jupyter.notebook.get_cells();\n",
       "                for (var i = 0; i < nbb_cells.length; ++i) {\n",
       "                    if (nbb_cells[i].input_prompt_number == nbb_cell_id) {\n",
       "                        nbb_cells[i].set_text(nbb_formatted_code);\n",
       "                        break;\n",
       "                    }\n",
       "                }\n",
       "            }, 500);\n",
       "            "
      ],
      "text/plain": [
       "<IPython.core.display.Javascript object>"
      ]
     },
     "metadata": {},
     "output_type": "display_data"
    }
   ],
   "source": [
    "%%R -i train_for_r -i test_for_r\n",
    "library(compboost)\n",
    "library(ggplot2)\n",
    "spline_boost = boostSplines(data = train_for_r, target = \"FFVC\", loss = LossQuadratic$new(), trace=10)"
   ]
  },
  {
   "cell_type": "code",
   "execution_count": 20,
   "metadata": {},
   "outputs": [
    {
     "name": "stdout",
     "output_type": "stream",
     "text": [
      "\n",
      "AGEBGEW_spline   ALTER_spline   FLGEW_spline FLGROSS_spline   FMILB_spline \n",
      "             5              5             18             31              1 \n",
      " FO3H24_spline  FSPFEI_spline  FTEH24_spline  Female_spline    Male_spline \n",
      "             6              3             16             11              4 \n"
     ]
    },
    {
     "data": {
      "application/javascript": [
       "\n",
       "            setTimeout(function() {\n",
       "                var nbb_cell_id = 20;\n",
       "                var nbb_formatted_code = \"%%R\\ntable(spline_boost$getSelectedBaselearner())\";\n",
       "                var nbb_cells = Jupyter.notebook.get_cells();\n",
       "                for (var i = 0; i < nbb_cells.length; ++i) {\n",
       "                    if (nbb_cells[i].input_prompt_number == nbb_cell_id) {\n",
       "                        nbb_cells[i].set_text(nbb_formatted_code);\n",
       "                        break;\n",
       "                    }\n",
       "                }\n",
       "            }, 500);\n",
       "            "
      ],
      "text/plain": [
       "<IPython.core.display.Javascript object>"
      ]
     },
     "metadata": {},
     "output_type": "display_data"
    }
   ],
   "source": [
    "%%R\n",
    "table(spline_boost$getSelectedBaselearner())"
   ]
  },
  {
   "cell_type": "markdown",
   "metadata": {},
   "source": [
    "As we can see, not all features are chosen. The FLGROSS is chosen the most, which makes sense, as it had the lowest p-value in our original OLS model as well. \n",
    "\n",
    "Next I will do the same for linear regressors."
   ]
  },
  {
   "cell_type": "code",
   "execution_count": 36,
   "metadata": {},
   "outputs": [
    {
     "name": "stdout",
     "output_type": "stream",
     "text": [
      "  1/100: risk = 0.061\n",
      " 10/100: risk = 0.042\n",
      " 20/100: risk = 0.034\n",
      " 30/100: risk = 0.031\n",
      " 40/100: risk = 0.028\n",
      " 50/100: risk = 0.027\n",
      " 60/100: risk = 0.026\n",
      " 70/100: risk = 0.026\n",
      " 80/100: risk = 0.025\n",
      " 90/100: risk = 0.025\n",
      "100/100: risk = 0.024\n",
      "\n",
      "\n",
      "Train 100 iterations in 0 Seconds.\n",
      "Final risk based on the train set: 0.024\n",
      "\n"
     ]
    },
    {
     "data": {
      "application/javascript": [
       "\n",
       "            setTimeout(function() {\n",
       "                var nbb_cell_id = 36;\n",
       "                var nbb_formatted_code = \"%%R\\nlinear_boost = boostLinear(data = train_for_r, target = \\\"FFVC\\\", loss = LossQuadratic$new(), trace=10)\";\n",
       "                var nbb_cells = Jupyter.notebook.get_cells();\n",
       "                for (var i = 0; i < nbb_cells.length; ++i) {\n",
       "                    if (nbb_cells[i].input_prompt_number == nbb_cell_id) {\n",
       "                        nbb_cells[i].set_text(nbb_formatted_code);\n",
       "                        break;\n",
       "                    }\n",
       "                }\n",
       "            }, 500);\n",
       "            "
      ],
      "text/plain": [
       "<IPython.core.display.Javascript object>"
      ]
     },
     "metadata": {},
     "output_type": "display_data"
    }
   ],
   "source": [
    "%%R\n",
    "linear_boost = boostLinear(data = train_for_r, target = \"FFVC\", loss = LossQuadratic$new(), trace=10)"
   ]
  },
  {
   "cell_type": "code",
   "execution_count": 22,
   "metadata": {},
   "outputs": [
    {
     "name": "stdout",
     "output_type": "stream",
     "text": [
      "$AGEBGEW_linear\n",
      "             [,1]\n",
      "[1,] 5.342005e-05\n",
      "[2,] 8.914959e-04\n",
      "\n",
      "$ALTER_linear\n",
      "            [,1]\n",
      "[1,] 0.003361453\n",
      "[2,] 0.020417242\n",
      "\n",
      "$FLGEW_linear\n",
      "           [,1]\n",
      "[1,] 0.01683412\n",
      "[2,] 0.09495786\n",
      "\n",
      "$FLGROSS_linear\n",
      "           [,1]\n",
      "[1,] 0.03202535\n",
      "[2,] 0.17075866\n",
      "\n",
      "$FLTOTMED_linear\n",
      "              [,1]\n",
      "[1,]  0.0001780553\n",
      "[2,] -0.0007230610\n",
      "\n",
      "$FSPFEI_linear\n",
      "              [,1]\n",
      "[1,] -0.0008423204\n",
      "[2,]  0.0122879683\n",
      "\n",
      "$Female_linear\n",
      "            [,1]\n",
      "[1,]  0.09257675\n",
      "[2,] -0.18818881\n",
      "\n",
      "$offset\n",
      "[1] 2.243065\n",
      "\n"
     ]
    },
    {
     "data": {
      "application/javascript": [
       "\n",
       "            setTimeout(function() {\n",
       "                var nbb_cell_id = 22;\n",
       "                var nbb_formatted_code = \"%%R\\nlinear_boost$getEstimatedCoef()\";\n",
       "                var nbb_cells = Jupyter.notebook.get_cells();\n",
       "                for (var i = 0; i < nbb_cells.length; ++i) {\n",
       "                    if (nbb_cells[i].input_prompt_number == nbb_cell_id) {\n",
       "                        nbb_cells[i].set_text(nbb_formatted_code);\n",
       "                        break;\n",
       "                    }\n",
       "                }\n",
       "            }, 500);\n",
       "            "
      ],
      "text/plain": [
       "<IPython.core.display.Javascript object>"
      ]
     },
     "metadata": {},
     "output_type": "display_data"
    }
   ],
   "source": [
    "%%R\n",
    "linear_boost$getEstimatedCoef()"
   ]
  },
  {
   "cell_type": "markdown",
   "metadata": {},
   "source": [
    "More or less the same features seem to be selected here as well. FLGROSS having the largest coefficient (Male and female have higher, but they are binary and therefore act differently.)\n",
    "\n",
    "I didn't manage to get component-wise boosted trees working, sorry!"
   ]
  },
  {
   "cell_type": "markdown",
   "metadata": {},
   "source": [
    "# Task 1.7\n",
    "\n",
    "Calculating the train and test MSE for all models:"
   ]
  },
  {
   "cell_type": "code",
   "execution_count": 23,
   "metadata": {},
   "outputs": [
    {
     "data": {
      "application/javascript": [
       "\n",
       "            setTimeout(function() {\n",
       "                var nbb_cell_id = 23;\n",
       "                var nbb_formatted_code = \"def mean_squared_error(sklearn_model, X, y):\\n    \\\"\\\"\\\"\\n    Function for computing MSE of scikit-learn models.\\n    \\\"\\\"\\\"\\n    return ((sklearn_model.predict(X) - y) ** 2).mean()\";\n",
       "                var nbb_cells = Jupyter.notebook.get_cells();\n",
       "                for (var i = 0; i < nbb_cells.length; ++i) {\n",
       "                    if (nbb_cells[i].input_prompt_number == nbb_cell_id) {\n",
       "                        nbb_cells[i].set_text(nbb_formatted_code);\n",
       "                        break;\n",
       "                    }\n",
       "                }\n",
       "            }, 500);\n",
       "            "
      ],
      "text/plain": [
       "<IPython.core.display.Javascript object>"
      ]
     },
     "metadata": {},
     "output_type": "display_data"
    }
   ],
   "source": [
    "def mean_squared_error(sklearn_model, X, y):\n",
    "    \"\"\"\n",
    "    Function for computing MSE of scikit-learn models.\n",
    "    \"\"\"\n",
    "    return ((sklearn_model.predict(X) - y) ** 2).mean()"
   ]
  },
  {
   "cell_type": "code",
   "execution_count": 24,
   "metadata": {},
   "outputs": [
    {
     "name": "stdout",
     "output_type": "stream",
     "text": [
      "OLS: train: 0.0428674  test: 0.0482688\n",
      "Increased: train: 0.04865  test: 0.0420083\n",
      "Increased less strict: train: 0.04865  test: 0.0420083\n",
      "Reduced: train: 0.0470368  test: 0.044036\n",
      "Reduced less strict: train: 0.0443745  test: 0.0451905\n",
      "LASSO CV: train: 0.048943  test: 0.0445636\n",
      "LASSO bootstrap: train: 0.0438165  test: 0.0442285\n",
      "GAM: train: 0.0428996  test: 0.0472678\n"
     ]
    },
    {
     "data": {
      "application/javascript": [
       "\n",
       "            setTimeout(function() {\n",
       "                var nbb_cell_id = 24;\n",
       "                var nbb_formatted_code = \"# MSE train and test of OLS\\nprint(\\n    f\\\"OLS: train: {mean_squared_error(ols_reg, X_train, y_train):g}\\\"\\n    + f\\\"  test: {mean_squared_error(ols_reg, X_test, y_test):g}\\\"\\n)\\n# MSE train and test of strict forward selection\\nprint(\\n    f\\\"Increased: train: {mean_squared_error(regressor_increased, X_increased_train, y_train):g}\\\"\\n    + f\\\"  test: {mean_squared_error(regressor_increased, X_increased_test, y_test):g}\\\"\\n)\\n# MSE train and test of less strict forward selection\\nprint(\\n    f\\\"Increased less strict: train: {mean_squared_error(regressor_increased_less_strict, X_increased_train_less_strict, y_train):g}\\\"\\n    + f\\\"  test: {mean_squared_error(regressor_increased_less_strict, X_increased_test_less_strict, y_test):g}\\\"\\n)\\n# MSE train and test of strict backward elimination\\nprint(\\n    f\\\"Reduced: train: {mean_squared_error(regressor_reduced, X_reduce_train, y_train):g}\\\"\\n    + f\\\"  test: {mean_squared_error(regressor_reduced, X_reduce_test, y_test):g}\\\"\\n)\\n# MSE train and test of less strict backward elimination\\nprint(\\n    f\\\"Reduced less strict: train: {mean_squared_error(regressor_reduced_less_strict, X_reduce_train_less_strict, y_train):g}\\\"\\n    + f\\\"  test: {mean_squared_error(regressor_reduced_less_strict, X_reduce_test_less_strict, y_test):g}\\\"\\n)\\n# MSE train and test for LASSO CV\\nprint(\\n    f\\\"LASSO CV: train: {mean_squared_error(lasso_cv, X_train, y_train):g}\\\"\\n    + f\\\"  test: {mean_squared_error(lasso_cv, X_test, y_test):g}\\\"\\n)\\n# MSE train and test for LASSO bootstrap\\nprint(\\n    f\\\"LASSO bootstrap: train: {mean_squared_error(lasso_bootstrap, X_train, y_train):g}\\\"\\n    + f\\\"  test: {mean_squared_error(lasso_bootstrap, X_test, y_test):g}\\\"\\n)\\n# MSE train and test for GAM\\nprint(\\n    f\\\"GAM: train: {mean_squared_error(gam, X_train, y_train):g}\\\"\\n    + f\\\"  test: {mean_squared_error(gam, X_test, y_test):g}\\\"\\n)\";\n",
       "                var nbb_cells = Jupyter.notebook.get_cells();\n",
       "                for (var i = 0; i < nbb_cells.length; ++i) {\n",
       "                    if (nbb_cells[i].input_prompt_number == nbb_cell_id) {\n",
       "                        nbb_cells[i].set_text(nbb_formatted_code);\n",
       "                        break;\n",
       "                    }\n",
       "                }\n",
       "            }, 500);\n",
       "            "
      ],
      "text/plain": [
       "<IPython.core.display.Javascript object>"
      ]
     },
     "metadata": {},
     "output_type": "display_data"
    }
   ],
   "source": [
    "# MSE train and test of OLS\n",
    "print(\n",
    "    f\"OLS: train: {mean_squared_error(ols_reg, X_train, y_train):g}\"\n",
    "    + f\"  test: {mean_squared_error(ols_reg, X_test, y_test):g}\"\n",
    ")\n",
    "# MSE train and test of strict forward selection\n",
    "print(\n",
    "    f\"Increased: train: {mean_squared_error(regressor_increased, X_increased_train, y_train):g}\"\n",
    "    + f\"  test: {mean_squared_error(regressor_increased, X_increased_test, y_test):g}\"\n",
    ")\n",
    "# MSE train and test of less strict forward selection\n",
    "print(\n",
    "    f\"Increased less strict: train: {mean_squared_error(regressor_increased_less_strict, X_increased_train_less_strict, y_train):g}\"\n",
    "    + f\"  test: {mean_squared_error(regressor_increased_less_strict, X_increased_test_less_strict, y_test):g}\"\n",
    ")\n",
    "# MSE train and test of strict backward elimination\n",
    "print(\n",
    "    f\"Reduced: train: {mean_squared_error(regressor_reduced, X_reduce_train, y_train):g}\"\n",
    "    + f\"  test: {mean_squared_error(regressor_reduced, X_reduce_test, y_test):g}\"\n",
    ")\n",
    "# MSE train and test of less strict backward elimination\n",
    "print(\n",
    "    f\"Reduced less strict: train: {mean_squared_error(regressor_reduced_less_strict, X_reduce_train_less_strict, y_train):g}\"\n",
    "    + f\"  test: {mean_squared_error(regressor_reduced_less_strict, X_reduce_test_less_strict, y_test):g}\"\n",
    ")\n",
    "# MSE train and test for LASSO CV\n",
    "print(\n",
    "    f\"LASSO CV: train: {mean_squared_error(lasso_cv, X_train, y_train):g}\"\n",
    "    + f\"  test: {mean_squared_error(lasso_cv, X_test, y_test):g}\"\n",
    ")\n",
    "# MSE train and test for LASSO bootstrap\n",
    "print(\n",
    "    f\"LASSO bootstrap: train: {mean_squared_error(lasso_bootstrap, X_train, y_train):g}\"\n",
    "    + f\"  test: {mean_squared_error(lasso_bootstrap, X_test, y_test):g}\"\n",
    ")\n",
    "# MSE train and test for GAM\n",
    "print(\n",
    "    f\"GAM: train: {mean_squared_error(gam, X_train, y_train):g}\"\n",
    "    + f\"  test: {mean_squared_error(gam, X_test, y_test):g}\"\n",
    ")"
   ]
  },
  {
   "cell_type": "code",
   "execution_count": 38,
   "metadata": {},
   "outputs": [
    {
     "name": "stdout",
     "output_type": "stream",
     "text": [
      "[1] \"Element-wise spline boosting:\"\n",
      "[1] \"Train: \"\n",
      "[1] 0.0408432\n",
      "[1] \"Test: \"\n",
      "[1] \"N/A\"\n",
      "[1] \"Element-wise linear boosting:\"\n",
      "[1] \"Train: \"\n",
      "[1] 0.04892773\n",
      "[1] \"Test: \"\n",
      "[1] 0.04453509\n"
     ]
    },
    {
     "data": {
      "application/javascript": [
       "\n",
       "            setTimeout(function() {\n",
       "                var nbb_cell_id = 38;\n",
       "                var nbb_formatted_code = \"%%R\\nlibrary(MLmetrics)\\nprint(\\\"Element-wise spline boosting:\\\")\\nprint(\\\"Train: \\\")\\nprint(MSE(y_pred=data.matrix(spline_boost$predict(train_for_r)), y_true=data.matrix(train_for_r[\\\"FFVC\\\"])))\\nprint(\\\"Test: \\\")\\nprint(\\\"N/A\\\")\\n# The commented line under crashes everything!\\n#print(MSE(y_pred=data.matrix(spline_boost$predict(test_for_r)), y_true=data.matrix(test_for_r[\\\"FFVC\\\"])))\\n\\nprint(\\\"Element-wise linear boosting:\\\")\\nprint(\\\"Train: \\\")\\nprint(MSE(y_pred=data.matrix(linear_boost$predict(train_for_r)), y_true=data.matrix(train_for_r[\\\"FFVC\\\"])))\\nprint(\\\"Test: \\\")\\nprint(MSE(y_pred=data.matrix(linear_boost$predict(test_for_r)), y_true=data.matrix(test_for_r[\\\"FFVC\\\"])))\";\n",
       "                var nbb_cells = Jupyter.notebook.get_cells();\n",
       "                for (var i = 0; i < nbb_cells.length; ++i) {\n",
       "                    if (nbb_cells[i].input_prompt_number == nbb_cell_id) {\n",
       "                        nbb_cells[i].set_text(nbb_formatted_code);\n",
       "                        break;\n",
       "                    }\n",
       "                }\n",
       "            }, 500);\n",
       "            "
      ],
      "text/plain": [
       "<IPython.core.display.Javascript object>"
      ]
     },
     "metadata": {},
     "output_type": "display_data"
    }
   ],
   "source": [
    "%%R\n",
    "library(MLmetrics)\n",
    "print(\"Element-wise spline boosting:\")\n",
    "print(\"Train: \")\n",
    "print(MSE(y_pred=data.matrix(spline_boost$predict(train_for_r)), y_true=data.matrix(train_for_r[\"FFVC\"])))\n",
    "print(\"Test: \")\n",
    "print(\"N/A\")\n",
    "# The commented line under crashes everything!\n",
    "#print(MSE(y_pred=data.matrix(spline_boost$predict(test_for_r)), y_true=data.matrix(test_for_r[\"FFVC\"])))\n",
    "\n",
    "print(\"Element-wise linear boosting:\")\n",
    "print(\"Train: \")\n",
    "print(MSE(y_pred=data.matrix(linear_boost$predict(train_for_r)), y_true=data.matrix(train_for_r[\"FFVC\"])))\n",
    "print(\"Test: \")\n",
    "print(MSE(y_pred=data.matrix(linear_boost$predict(test_for_r)), y_true=data.matrix(test_for_r[\"FFVC\"])))"
   ]
  },
  {
   "cell_type": "markdown",
   "metadata": {},
   "source": [
    "Unfortunately compboost crashes when I try to use it to predict with data different from what it was fit on. Makes no sense if you ask me, but therefore I couldn't get it to print the test MSE."
   ]
  },
  {
   "cell_type": "markdown",
   "metadata": {},
   "source": [
    "The best model actually seems to be the forward selected OLS, surprisingly!"
   ]
  },
  {
   "cell_type": "markdown",
   "metadata": {},
   "source": [
    "# Task 2.1"
   ]
  },
  {
   "cell_type": "code",
   "execution_count": 6,
   "metadata": {},
   "outputs": [
    {
     "data": {
      "application/javascript": [
       "\n",
       "            setTimeout(function() {\n",
       "                var nbb_cell_id = 6;\n",
       "                var nbb_formatted_code = \"# Using R only for the lines with %R.\\n%R library(mlbench)\\n# Loading dataframe\\n%R data(PimaIndiansDiabetes)\\n# Now saving the dataframe in a Pandas dataframe in Python instead.\\n# This is actually really cool, just found out how to do it. Using\\n# Python together with R this way is probably very useful in data science!\\ndf_2 = %R PimaIndiansDiabetes\\nX_2 = df_2.loc[:, df_2.columns != \\\"diabetes\\\"]\\ny_2 = df_2[\\\"diabetes\\\"]\\ny_2 = (y_2.values == \\\"neg\\\").astype(np.int)\\ny_2 = pd.DataFrame(y_2, columns=[\\\"diabetes\\\"])\\nX_train_2, X_test_2, y_train_2, y_test_2 = sklms.train_test_split(\\n    X_2, y_2, stratify=y_2, test_size=0.33\\n)\\nscaler_2 = sklpre.StandardScaler()\\nX_train_2 = pd.DataFrame(scaler_2.fit_transform(X_train_2), columns=X_train_2.columns)\\nX_test_2 = pd.DataFrame(scaler_2.transform(X_test_2), columns=X_test_2.columns)\";\n",
       "                var nbb_cells = Jupyter.notebook.get_cells();\n",
       "                for (var i = 0; i < nbb_cells.length; ++i) {\n",
       "                    if (nbb_cells[i].input_prompt_number == nbb_cell_id) {\n",
       "                        nbb_cells[i].set_text(nbb_formatted_code);\n",
       "                        break;\n",
       "                    }\n",
       "                }\n",
       "            }, 500);\n",
       "            "
      ],
      "text/plain": [
       "<IPython.core.display.Javascript object>"
      ]
     },
     "metadata": {},
     "output_type": "display_data"
    }
   ],
   "source": [
    "# Using R only for the lines with %R.\n",
    "%R library(mlbench)\n",
    "# Loading dataframe\n",
    "%R data(PimaIndiansDiabetes)\n",
    "# Now saving the dataframe in a Pandas dataframe in Python instead.\n",
    "# This is actually really cool, just found out how to do it. Using\n",
    "# Python together with R this way is probably very useful in data science!\n",
    "df_2 = %R PimaIndiansDiabetes\n",
    "X_2 = df_2.loc[:, df_2.columns != \"diabetes\"]\n",
    "y_2 = df_2[\"diabetes\"]\n",
    "y_2 = (y_2.values == \"neg\").astype(np.int)\n",
    "y_2 = pd.DataFrame(y_2, columns=[\"diabetes\"])\n",
    "X_train_2, X_test_2, y_train_2, y_test_2 = sklms.train_test_split(\n",
    "    X_2, y_2, stratify=y_2, test_size=0.33\n",
    ")\n",
    "scaler_2 = sklpre.StandardScaler()\n",
    "X_train_2 = pd.DataFrame(scaler_2.fit_transform(X_train_2), columns=X_train_2.columns)\n",
    "X_test_2 = pd.DataFrame(scaler_2.transform(X_test_2), columns=X_test_2.columns)"
   ]
  },
  {
   "cell_type": "code",
   "execution_count": 7,
   "metadata": {},
   "outputs": [
    {
     "data": {
      "image/png": "[encoded data removed]",
      "text/plain": [
       "<Figure size 432x288 with 1 Axes>"
      ]
     },
     "metadata": {
      "needs_background": "light"
     },
     "output_type": "display_data"
    },
    {
     "data": {
      "application/javascript": [
       "\n",
       "            setTimeout(function() {\n",
       "                var nbb_cell_id = 7;\n",
       "                var nbb_formatted_code = \"base_knn = sklne.KNeighborsClassifier()\\nk_grid = np.arange(1, 25)\\nhyperparams = {\\\"n_neighbors\\\": k_grid}\\ngrid_search_knn_5_fold = sklms.GridSearchCV(\\n    base_knn, param_grid=hyperparams, cv=5, iid=False\\n)\\ngrid_search_knn_5_fold.fit(\\n    X_train_2.values, y_train_2.values.ravel(),\\n)\\nfig, ax = plt.subplots()\\nax.plot(\\n    k_grid,\\n    grid_search_knn_5_fold.cv_results_[\\\"mean_test_score\\\"],\\n    label=\\\"Validation, 5-fold\\\",\\n)\\nax.grid()\\nax.set_xlabel(\\\"k\\\")\\nax.set_ylabel(\\\"Accuracy score\\\")\\nax.legend()\\nfig.tight_layout()\\nplt.show()\";\n",
       "                var nbb_cells = Jupyter.notebook.get_cells();\n",
       "                for (var i = 0; i < nbb_cells.length; ++i) {\n",
       "                    if (nbb_cells[i].input_prompt_number == nbb_cell_id) {\n",
       "                        nbb_cells[i].set_text(nbb_formatted_code);\n",
       "                        break;\n",
       "                    }\n",
       "                }\n",
       "            }, 500);\n",
       "            "
      ],
      "text/plain": [
       "<IPython.core.display.Javascript object>"
      ]
     },
     "metadata": {},
     "output_type": "display_data"
    }
   ],
   "source": [
    "base_knn = sklne.KNeighborsClassifier()\n",
    "k_grid = np.arange(1, 25)\n",
    "hyperparams = {\"n_neighbors\": k_grid}\n",
    "grid_search_knn_5_fold = sklms.GridSearchCV(\n",
    "    base_knn, param_grid=hyperparams, cv=5, iid=False\n",
    ")\n",
    "grid_search_knn_5_fold.fit(\n",
    "    X_train_2.values, y_train_2.values.ravel(),\n",
    ")\n",
    "fig, ax = plt.subplots()\n",
    "ax.plot(\n",
    "    k_grid,\n",
    "    grid_search_knn_5_fold.cv_results_[\"mean_test_score\"],\n",
    "    label=\"Validation, 5-fold\",\n",
    ")\n",
    "ax.grid()\n",
    "ax.set_xlabel(\"k\")\n",
    "ax.set_ylabel(\"Accuracy score\")\n",
    "ax.legend()\n",
    "fig.tight_layout()\n",
    "plt.show()"
   ]
  }
 ],
 "metadata": {
  "kernelspec": {
   "display_name": "Python 3",
   "language": "python",
   "name": "python3"
  },
  "language_info": {
   "codemirror_mode": {
    "name": "ipython",
    "version": 3
   },
   "file_extension": ".py",
   "mimetype": "text/x-python",
   "name": "python",
   "nbconvert_exporter": "python",
   "pygments_lexer": "ipython3",
   "version": "3.7.4"
  }
 },
 "nbformat": 4,
 "nbformat_minor": 2
}
